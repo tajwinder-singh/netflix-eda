{
 "cells": [
  {
   "cell_type": "markdown",
   "id": "2041e671",
   "metadata": {
    "id": "2041e671"
   },
   "source": [
    "# 🎬 Netflix Data Analysis & Visualization (Data Visualization and EDA Project)\n",
    "\n",
    "## As a highly popular content platform, Netflix offers wide range of movies and TV shows for its target audiences. This project undertakes Data Visualization of the 'Netflix Movies and TV shows' dataset to derive significant and useful insights.\n",
    "\n",
    "## 🎯 Objective:\n",
    "To analyze Netflix's content library to derive meaningful insights using Python.\n",
    "\n",
    "## ✨ Key Activities:\n",
    "- Feature-wise visualizations were created, leading to the discovery of useful insights.\n",
    "\n",
    "- These insights are presented through a storytelling approach.\n",
    "\n",
    "- These analysis aim to understand the behavioral patterns of directors and actors that are listed on Netflix.\n",
    "\n",
    "Furthermore, this project involves a bit more interesting analysis and observations."
   ]
  },
  {
   "cell_type": "markdown",
   "id": "2367410b",
   "metadata": {
    "id": "2367410b"
   },
   "source": [
    "***\n",
    "# 💡 Description of Feature in the Dataset:\n",
    "\n",
    "**show_id** - Unique ID for every Movie / TV show\n",
    "\n",
    "**type** - An identifier indicating whether the content is a movie or a TV show.\n",
    "\n",
    "**title** - The title of the movie or TV show.\n",
    "\n",
    "**director** - The director of the movie.\n",
    "\n",
    "**cast** - The actors involved in the movie or show.\n",
    "\n",
    "**country** - The country where the movie or show was produced.\n",
    "\n",
    "**date_added** - The date when the movie or show was added to Netflix.\n",
    "\n",
    "**release_year** - The actual year the movie or show was released.\n",
    "\n",
    "**rating** - The TV content rating of the movie or show.\n",
    "\n",
    "**duration** - The total duration of the content, either in minutes (for movies) or the number of seasons (for TV shows).\n",
    "\n",
    "**listed_in** - The genre(s) the movie or show is categorized under.\n",
    "\n",
    "**description** - A brief summary of the movie or show.\n",
    "***"
   ]
  },
  {
   "cell_type": "code",
   "execution_count": 1,
   "id": "c13890f7",
   "metadata": {
    "colab": {
     "base_uri": "https://localhost:8080/"
    },
    "executionInfo": {
     "elapsed": 5596,
     "status": "ok",
     "timestamp": 1746411474877,
     "user": {
      "displayName": "Tajwinder Singh",
      "userId": "00752918548403413662"
     },
     "user_tz": -330
    },
    "id": "c13890f7",
    "outputId": "72b16bb4-0dda-426d-bc3c-a1c0fd45db83"
   },
   "outputs": [],
   "source": [
    "# importing essential libraries\n",
    "import pandas as pd\n",
    "import numpy as np\n",
    "import seaborn as sns\n",
    "import matplotlib.pyplot as plt\n",
    "%matplotlib inline\n",
    "\n",
    "try:\n",
    "    import google.colab\n",
    "    IN_COLAB = True\n",
    "except ImportError:\n",
    "    IN_COLAB = False\n",
    "\n",
    "# Load dataset based on environment\n",
    "if IN_COLAB:\n",
    "    from google.colab import drive\n",
    "    drive.mount('/content/drive')\n",
    "    file_path = '/content/drive/MyDrive/netflix_titles.csv'  # Enter the file path in drive\n",
    "\n",
    "\n",
    "else:\n",
    "    file_path = \"C:\\\\Users\\\\HP\\\\Downloads\\\\netflix_titles.csv\\\\netflix_titles.csv\" # Local file path\n",
    "\n",
    "# Read the file\n",
    "raw_df = pd.read_csv(file_path)\n",
    "df = raw_df.copy()  # created a copy of the original dataset.\n",
    "pd.set_option('display.max_columns', None)"
   ]
  },
  {
   "cell_type": "code",
   "execution_count": 2,
   "id": "ffe8c61f",
   "metadata": {
    "colab": {
     "base_uri": "https://localhost:8080/",
     "height": 642
    },
    "executionInfo": {
     "elapsed": 306,
     "status": "ok",
     "timestamp": 1746411475187,
     "user": {
      "displayName": "Tajwinder Singh",
      "userId": "00752918548403413662"
     },
     "user_tz": -330
    },
    "id": "ffe8c61f",
    "outputId": "5dc04c94-7008-4273-fd80-b28216d48f72"
   },
   "outputs": [
    {
     "data": {
      "text/html": [
       "<div>\n",
       "<style scoped>\n",
       "    .dataframe tbody tr th:only-of-type {\n",
       "        vertical-align: middle;\n",
       "    }\n",
       "\n",
       "    .dataframe tbody tr th {\n",
       "        vertical-align: top;\n",
       "    }\n",
       "\n",
       "    .dataframe thead th {\n",
       "        text-align: right;\n",
       "    }\n",
       "</style>\n",
       "<table border=\"1\" class=\"dataframe\">\n",
       "  <thead>\n",
       "    <tr style=\"text-align: right;\">\n",
       "      <th></th>\n",
       "      <th>show_id</th>\n",
       "      <th>type</th>\n",
       "      <th>title</th>\n",
       "      <th>director</th>\n",
       "      <th>cast</th>\n",
       "      <th>country</th>\n",
       "      <th>date_added</th>\n",
       "      <th>release_year</th>\n",
       "      <th>rating</th>\n",
       "      <th>duration</th>\n",
       "      <th>listed_in</th>\n",
       "      <th>description</th>\n",
       "    </tr>\n",
       "  </thead>\n",
       "  <tbody>\n",
       "    <tr>\n",
       "      <th>0</th>\n",
       "      <td>s1</td>\n",
       "      <td>Movie</td>\n",
       "      <td>Dick Johnson Is Dead</td>\n",
       "      <td>Kirsten Johnson</td>\n",
       "      <td>NaN</td>\n",
       "      <td>United States</td>\n",
       "      <td>September 25, 2021</td>\n",
       "      <td>2020</td>\n",
       "      <td>PG-13</td>\n",
       "      <td>90 min</td>\n",
       "      <td>Documentaries</td>\n",
       "      <td>As her father nears the end of his life, filmm...</td>\n",
       "    </tr>\n",
       "    <tr>\n",
       "      <th>1</th>\n",
       "      <td>s2</td>\n",
       "      <td>TV Show</td>\n",
       "      <td>Blood &amp; Water</td>\n",
       "      <td>NaN</td>\n",
       "      <td>Ama Qamata, Khosi Ngema, Gail Mabalane, Thaban...</td>\n",
       "      <td>South Africa</td>\n",
       "      <td>September 24, 2021</td>\n",
       "      <td>2021</td>\n",
       "      <td>TV-MA</td>\n",
       "      <td>2 Seasons</td>\n",
       "      <td>International TV Shows, TV Dramas, TV Mysteries</td>\n",
       "      <td>After crossing paths at a party, a Cape Town t...</td>\n",
       "    </tr>\n",
       "    <tr>\n",
       "      <th>2</th>\n",
       "      <td>s3</td>\n",
       "      <td>TV Show</td>\n",
       "      <td>Ganglands</td>\n",
       "      <td>Julien Leclercq</td>\n",
       "      <td>Sami Bouajila, Tracy Gotoas, Samuel Jouy, Nabi...</td>\n",
       "      <td>NaN</td>\n",
       "      <td>September 24, 2021</td>\n",
       "      <td>2021</td>\n",
       "      <td>TV-MA</td>\n",
       "      <td>1 Season</td>\n",
       "      <td>Crime TV Shows, International TV Shows, TV Act...</td>\n",
       "      <td>To protect his family from a powerful drug lor...</td>\n",
       "    </tr>\n",
       "    <tr>\n",
       "      <th>3</th>\n",
       "      <td>s4</td>\n",
       "      <td>TV Show</td>\n",
       "      <td>Jailbirds New Orleans</td>\n",
       "      <td>NaN</td>\n",
       "      <td>NaN</td>\n",
       "      <td>NaN</td>\n",
       "      <td>September 24, 2021</td>\n",
       "      <td>2021</td>\n",
       "      <td>TV-MA</td>\n",
       "      <td>1 Season</td>\n",
       "      <td>Docuseries, Reality TV</td>\n",
       "      <td>Feuds, flirtations and toilet talk go down amo...</td>\n",
       "    </tr>\n",
       "    <tr>\n",
       "      <th>4</th>\n",
       "      <td>s5</td>\n",
       "      <td>TV Show</td>\n",
       "      <td>Kota Factory</td>\n",
       "      <td>NaN</td>\n",
       "      <td>Mayur More, Jitendra Kumar, Ranjan Raj, Alam K...</td>\n",
       "      <td>India</td>\n",
       "      <td>September 24, 2021</td>\n",
       "      <td>2021</td>\n",
       "      <td>TV-MA</td>\n",
       "      <td>2 Seasons</td>\n",
       "      <td>International TV Shows, Romantic TV Shows, TV ...</td>\n",
       "      <td>In a city of coaching centers known to train I...</td>\n",
       "    </tr>\n",
       "  </tbody>\n",
       "</table>\n",
       "</div>"
      ],
      "text/plain": [
       "  show_id     type                  title         director  \\\n",
       "0      s1    Movie   Dick Johnson Is Dead  Kirsten Johnson   \n",
       "1      s2  TV Show          Blood & Water              NaN   \n",
       "2      s3  TV Show              Ganglands  Julien Leclercq   \n",
       "3      s4  TV Show  Jailbirds New Orleans              NaN   \n",
       "4      s5  TV Show           Kota Factory              NaN   \n",
       "\n",
       "                                                cast        country  \\\n",
       "0                                                NaN  United States   \n",
       "1  Ama Qamata, Khosi Ngema, Gail Mabalane, Thaban...   South Africa   \n",
       "2  Sami Bouajila, Tracy Gotoas, Samuel Jouy, Nabi...            NaN   \n",
       "3                                                NaN            NaN   \n",
       "4  Mayur More, Jitendra Kumar, Ranjan Raj, Alam K...          India   \n",
       "\n",
       "           date_added  release_year rating   duration  \\\n",
       "0  September 25, 2021          2020  PG-13     90 min   \n",
       "1  September 24, 2021          2021  TV-MA  2 Seasons   \n",
       "2  September 24, 2021          2021  TV-MA   1 Season   \n",
       "3  September 24, 2021          2021  TV-MA   1 Season   \n",
       "4  September 24, 2021          2021  TV-MA  2 Seasons   \n",
       "\n",
       "                                           listed_in  \\\n",
       "0                                      Documentaries   \n",
       "1    International TV Shows, TV Dramas, TV Mysteries   \n",
       "2  Crime TV Shows, International TV Shows, TV Act...   \n",
       "3                             Docuseries, Reality TV   \n",
       "4  International TV Shows, Romantic TV Shows, TV ...   \n",
       "\n",
       "                                         description  \n",
       "0  As her father nears the end of his life, filmm...  \n",
       "1  After crossing paths at a party, a Cape Town t...  \n",
       "2  To protect his family from a powerful drug lor...  \n",
       "3  Feuds, flirtations and toilet talk go down amo...  \n",
       "4  In a city of coaching centers known to train I...  "
      ]
     },
     "execution_count": 2,
     "metadata": {},
     "output_type": "execute_result"
    }
   ],
   "source": [
    "df.head() # displaying initial rows."
   ]
  },
  {
   "cell_type": "code",
   "execution_count": 3,
   "id": "267f7a38",
   "metadata": {
    "colab": {
     "base_uri": "https://localhost:8080/"
    },
    "executionInfo": {
     "elapsed": 116,
     "status": "ok",
     "timestamp": 1746411475306,
     "user": {
      "displayName": "Tajwinder Singh",
      "userId": "00752918548403413662"
     },
     "user_tz": -330
    },
    "id": "267f7a38",
    "outputId": "9d5679ae-589d-4d90-f31a-b9c8fe6bf675"
   },
   "outputs": [
    {
     "name": "stdout",
     "output_type": "stream",
     "text": [
      "<class 'pandas.core.frame.DataFrame'>\n",
      "RangeIndex: 8807 entries, 0 to 8806\n",
      "Data columns (total 12 columns):\n",
      " #   Column        Non-Null Count  Dtype \n",
      "---  ------        --------------  ----- \n",
      " 0   show_id       8807 non-null   object\n",
      " 1   type          8807 non-null   object\n",
      " 2   title         8807 non-null   object\n",
      " 3   director      6173 non-null   object\n",
      " 4   cast          7982 non-null   object\n",
      " 5   country       7976 non-null   object\n",
      " 6   date_added    8797 non-null   object\n",
      " 7   release_year  8807 non-null   int64 \n",
      " 8   rating        8803 non-null   object\n",
      " 9   duration      8804 non-null   object\n",
      " 10  listed_in     8807 non-null   object\n",
      " 11  description   8807 non-null   object\n",
      "dtypes: int64(1), object(11)\n",
      "memory usage: 825.8+ KB\n"
     ]
    }
   ],
   "source": [
    "df.info() # getting the information of the dataset."
   ]
  },
  {
   "cell_type": "code",
   "execution_count": 4,
   "id": "9fb91fd6",
   "metadata": {
    "colab": {
     "base_uri": "https://localhost:8080/",
     "height": 307
    },
    "executionInfo": {
     "elapsed": 93,
     "status": "ok",
     "timestamp": 1746411475392,
     "user": {
      "displayName": "Tajwinder Singh",
      "userId": "00752918548403413662"
     },
     "user_tz": -330
    },
    "id": "9fb91fd6",
    "outputId": "6c20e033-1b81-40f2-c326-5eecf95e3525"
   },
   "outputs": [
    {
     "data": {
      "text/plain": [
       "show_id            0\n",
       "type               0\n",
       "title              0\n",
       "director        2634\n",
       "cast             825\n",
       "country          831\n",
       "date_added        10\n",
       "release_year       0\n",
       "rating             4\n",
       "duration           3\n",
       "listed_in          0\n",
       "description        0\n",
       "dtype: int64"
      ]
     },
     "execution_count": 4,
     "metadata": {},
     "output_type": "execute_result"
    }
   ],
   "source": [
    "df.isnull().sum() # checking the sum of the null values"
   ]
  },
  {
   "cell_type": "code",
   "execution_count": 5,
   "id": "fff14234",
   "metadata": {
    "colab": {
     "base_uri": "https://localhost:8080/"
    },
    "executionInfo": {
     "elapsed": 135,
     "status": "ok",
     "timestamp": 1746411475530,
     "user": {
      "displayName": "Tajwinder Singh",
      "userId": "00752918548403413662"
     },
     "user_tz": -330
    },
    "id": "fff14234",
    "outputId": "d676c715-235b-40fb-f393-e993d6028aae"
   },
   "outputs": [
    {
     "name": "stdout",
     "output_type": "stream",
     "text": [
      "Unique values in the feature 'show_id' are 8807\n",
      "Unique values in the feature 'type' are 2\n",
      "Unique values in the feature 'title' are 8807\n",
      "Unique values in the feature 'director' are 4528\n",
      "Unique values in the feature 'cast' are 7692\n",
      "Unique values in the feature 'country' are 748\n",
      "Unique values in the feature 'date_added' are 1767\n",
      "Unique values in the feature 'release_year' are 74\n",
      "Unique values in the feature 'rating' are 17\n",
      "Unique values in the feature 'duration' are 220\n",
      "Unique values in the feature 'listed_in' are 514\n",
      "Unique values in the feature 'description' are 8775\n"
     ]
    }
   ],
   "source": [
    "for feature in df.columns:\n",
    "    print(\"Unique values in the feature '{}' are {}\".format(feature, df[feature].nunique())) # printing the count of unique values of feature"
   ]
  },
  {
   "cell_type": "code",
   "execution_count": 6,
   "id": "52ee792d",
   "metadata": {
    "colab": {
     "base_uri": "https://localhost:8080/"
    },
    "executionInfo": {
     "elapsed": 69,
     "status": "ok",
     "timestamp": 1746411475602,
     "user": {
      "displayName": "Tajwinder Singh",
      "userId": "00752918548403413662"
     },
     "user_tz": -330
    },
    "id": "52ee792d",
    "outputId": "9eb7d2ad-e1df-4d77-f06a-1b27d371f40a"
   },
   "outputs": [
    {
     "name": "stdout",
     "output_type": "stream",
     "text": [
      "Categorical features are: ['show_id', 'type', 'title', 'director', 'cast', 'country', 'date_added', 'rating', 'duration', 'listed_in', 'description']\n"
     ]
    }
   ],
   "source": [
    "categoricalFeat = [feature for feature in df.columns if df[feature].dtypes == 'O'] # capturing categorical features\n",
    "print('Categorical features are: {}'.format(categoricalFeat))  # printing the categorical features"
   ]
  },
  {
   "cell_type": "code",
   "execution_count": 7,
   "id": "9735849f",
   "metadata": {
    "colab": {
     "base_uri": "https://localhost:8080/"
    },
    "executionInfo": {
     "elapsed": 71,
     "status": "ok",
     "timestamp": 1746411475675,
     "user": {
      "displayName": "Tajwinder Singh",
      "userId": "00752918548403413662"
     },
     "user_tz": -330
    },
    "id": "9735849f",
    "outputId": "b6d58202-d692-490a-d841-32cd576c73a0"
   },
   "outputs": [
    {
     "name": "stdout",
     "output_type": "stream",
     "text": [
      "<class 'pandas.core.frame.DataFrame'>\n",
      "RangeIndex: 8807 entries, 0 to 8806\n",
      "Data columns (total 13 columns):\n",
      " #   Column           Non-Null Count  Dtype         \n",
      "---  ------           --------------  -----         \n",
      " 0   show_id          8807 non-null   object        \n",
      " 1   type             8807 non-null   object        \n",
      " 2   title            8807 non-null   object        \n",
      " 3   director         6173 non-null   object        \n",
      " 4   cast             7982 non-null   object        \n",
      " 5   country          7976 non-null   object        \n",
      " 6   date_added       8797 non-null   datetime64[ns]\n",
      " 7   release_year     8807 non-null   int64         \n",
      " 8   rating           8803 non-null   object        \n",
      " 9   duration         8804 non-null   object        \n",
      " 10  listed_in        8807 non-null   object        \n",
      " 11  description      8807 non-null   object        \n",
      " 12  date_added_year  8797 non-null   float64       \n",
      "dtypes: datetime64[ns](1), float64(1), int64(1), object(10)\n",
      "memory usage: 894.6+ KB\n"
     ]
    }
   ],
   "source": [
    "df['date_added'] = pd.to_datetime(df['date_added'].str.strip()) # converting 'date_added' feature into a datetime variable\n",
    "df['date_added_year'] = df['date_added'].dt.year # creating a new column to store date_added year\n",
    "df.info() "
   ]
  },
  {
   "cell_type": "code",
   "execution_count": 8,
   "id": "67f51001",
   "metadata": {
    "colab": {
     "base_uri": "https://localhost:8080/",
     "height": 450
    },
    "executionInfo": {
     "elapsed": 355,
     "status": "ok",
     "timestamp": 1746411476082,
     "user": {
      "displayName": "Tajwinder Singh",
      "userId": "00752918548403413662"
     },
     "user_tz": -330
    },
    "id": "67f51001",
    "outputId": "4ea1c6c0-0ddd-406e-f9bc-bb76163f1fd5"
   },
   "outputs": [
    {
     "data": {
      "image/png": "[encoded data removed]",
      "text/plain": [
       "<Figure size 640x480 with 1 Axes>"
      ]
     },
     "metadata": {},
     "output_type": "display_data"
    }
   ],
   "source": [
    "sns.histplot(x = df['release_year'], binwidth=3, color = 'green') # creating a histogram of release_year\n",
    "plt.title(\"Histogram of 'release_year\")\n",
    "plt.show()"
   ]
  },
  {
   "cell_type": "code",
   "execution_count": 9,
   "id": "4a005a9f",
   "metadata": {
    "colab": {
     "base_uri": "https://localhost:8080/",
     "height": 450
    },
    "executionInfo": {
     "elapsed": 512,
     "status": "ok",
     "timestamp": 1746411476561,
     "user": {
      "displayName": "Tajwinder Singh",
      "userId": "00752918548403413662"
     },
     "user_tz": -330
    },
    "id": "4a005a9f",
    "outputId": "9bb066d8-f419-43e9-8cdc-dd9043ebfaee"
   },
   "outputs": [
    {
     "data": {
      "image/png": "[encoded data removed]",
      "text/plain": [
       "<Figure size 640x480 with 1 Axes>"
      ]
     },
     "metadata": {},
     "output_type": "display_data"
    }
   ],
   "source": [
    "sns.histplot(x = df['date_added_year'],color = 'red') # created a histplot of date _added_year\n",
    "plt.title(\"Histogram of 'date_added_year'\")\n",
    "plt.show()"
   ]
  },
  {
   "cell_type": "markdown",
   "id": "4ecc44c8",
   "metadata": {
    "id": "4ecc44c8"
   },
   "source": [
    "## Key observations from the above histplots:\n",
    "\n",
    "- ###  There is a clear concentration of content released in the year 2015 to 2020 on Netflix, that means - the trend of making movies and TV shows for OTT platforms (especially for Netflix ) had boomed in these years.\n",
    "\n",
    "- ### The histogram of date_added_year shows a sudden rise in the content which was featured on netflix from 2019 to 2020. Since in the year 2019 the COVID-19 pandemic was emerged and the people stayed home during the lock down, enormous amount of content was added on Netflix which was advantageous for both Netflix and the entertainment industry."
   ]
  },
  {
   "cell_type": "code",
   "execution_count": 10,
   "id": "2b9a1264",
   "metadata": {
    "colab": {
     "base_uri": "https://localhost:8080/"
    },
    "executionInfo": {
     "elapsed": 71,
     "status": "ok",
     "timestamp": 1746411476635,
     "user": {
      "displayName": "Tajwinder Singh",
      "userId": "00752918548403413662"
     },
     "user_tz": -330
    },
    "id": "2b9a1264",
    "outputId": "9a41ee46-e580-4580-e906-9ff62d661601"
   },
   "outputs": [
    {
     "name": "stdout",
     "output_type": "stream",
     "text": [
      "The number of unique categories in 'show_id' feature are 8807 which include: Index(['s15', 's16', 's17', 's18', 's19', 's20', 's21', 's22', 's23', 's8792',\n",
      "       ...\n",
      "       's8780', 's8781', 's8782', 's13', 's12', 's11', 's10', 's9', 's8',\n",
      "       's8807'],\n",
      "      dtype='object', name='show_id', length=8807)\n",
      "\n",
      "The number of unique categories in 'type' feature are 2 which include: Index(['TV Show', 'Movie'], dtype='object', name='type')\n",
      "\n",
      "The number of unique categories in 'title' feature are 8807 which include: Index(['Crime Stories: India Detectives', 'Dear White People',\n",
      "       'Europe's Most Dangerous Man: Otto Skorzeny in Spain',\n",
      "       'Falsa identidad', 'Intrusion', 'Jaguar',\n",
      "       'Monsters Inside: The 24 Faces of Billy Milligan',\n",
      "       'Resurrection: Ertugrul', 'Avvai Shanmughi', 'Young Adult',\n",
      "       ...\n",
      "       'Yes or No 2.5', 'Yo-Kai Watch', 'Yo-Kai Watch: The Movie',\n",
      "       'Je Suis Karl', 'Bangkok Breaking',\n",
      "       'Vendetta: Truth, Lies and The Mafia', 'The Starling',\n",
      "       'The Great British Baking Show', 'Sankofa', 'Zubaan'],\n",
      "      dtype='object', name='title', length=8807)\n",
      "\n",
      "The number of unique categories in 'director' feature are 4528 which include: Index(['Henri Wong', 'Eugenio Derbez', 'Michael Gallagher', 'Charles Officer',\n",
      "       'Lana Wachowski, Lilly Wachowski', 'Kathryn Bigelow', 'Sanjay Gupta',\n",
      "       'Kranti Redkar', 'Tinnu Anand', 'Jijo Pancode',\n",
      "       ...\n",
      "       'Steven Spielberg', 'Jay Chapman', 'Youssef Chahine', 'Martin Scorsese',\n",
      "       'Cathy Garcia-Molina', 'Jay Karas', 'Marcus Raboy', 'Suhas Kadav',\n",
      "       'Raúl Campos, Jan Suter', 'Rajiv Chilaka'],\n",
      "      dtype='object', name='director', length=4528)\n",
      "\n",
      "The number of unique categories in 'cast' feature are 7692 which include: Index(['Nelly Karim, Hany Adel, Tarek Abdel Aziz, Ahmed Malek, Ahmed Dash, Husni Sheta, Aly Eltayeb, Amr El Kady, Mohamed Abd El Azim, Gameel Barsoum, Ashraf Hamdy',\n",
      "       'Johnny Depp, Rebecca Hall, Morgan Freeman, Paul Bettany, Cillian Murphy, Kate Mara, Cole Hauser, Clifton Collins Jr.',\n",
      "       'Wagner Moura, Martin Sheen, Rooney Mara, Selton Mello, José Dumont, Nelson Xavier, Eduardo Luis, Gabriel Weinstein, Rickson Tevez',\n",
      "       'Adrian Grenier, Angela Trimbur, AnnaLynne McCord, Fionnula Flanagan, Matthew Gray Gubler, Ray Santiago, Sally Kirkland, Ezra Buzzington',\n",
      "       'Kevin Bacon, Fred Ward, Finn Carter, Michael Gross, Reba McEntire, Robert Jayne, Charlotte Stewart, Tony Genaro, Ariana Richards, Richard Marcus, Victor Wong, Bibi Besch',\n",
      "       'Fred Ward, Chris Gartin, Helen Shaver, Michael Gross, Marcelo Tubert, Marco Hernandez, José Ramón Rosario, Thomas Rosales Jr.',\n",
      "       'Michael Gross, Shawn Christian, Susan Chuang, Charlotte Stewart, Ariana Richards, Tony Genaro, Barry Livingston, John Pappas, Jason Hopkins',\n",
      "       'Michael Gross, Sara Botsford, Billy Drago, Brent Roam, August Schellenberg, J.E. Freeman, Ming Lo, Lydia Look, Sam Ly, Neil Kopit',\n",
      "       'Michael Gross, Jamie Kennedy, Ernest Ndhlovu, Lawrence Joffe, Zak Hendrikz, Natalie Becker, Emmanuel Castis, Brandon Auret, Daniel Janks',\n",
      "       'Michael Gross, Jamie Kennedy, Tanya van Graan, Jamie-Lee Money, Stephanie Schildknecht, Greg Kriek, Jenna Upton, Jay Anstey, Christie Peruso',\n",
      "       ...\n",
      "       'Bill Burr', 'Jim Gaffigan',\n",
      "       'Michela Luci, Jamie Watson, Eric Peterson, Anna Claire Bartlam, Nicolas Aqui, Cory Doran, Julie Lemieux, Derek McGrath',\n",
      "       'Kevin Hart', 'David Spade, London Hughes, Fortune Feimster',\n",
      "       'Craig Sechler', 'Jeff Dunham', 'Samuel West',\n",
      "       'Vatsal Dubey, Julie Tejwani, Rupa Bhimani, Jigna Bhardwaj, Rajesh Kava, Mousam, Swapnil',\n",
      "       'David Attenborough'],\n",
      "      dtype='object', name='cast', length=7692)\n",
      "\n",
      "The number of unique categories in 'country' feature are 748 which include: Index(['United Arab Emirates, Jordan',\n",
      "       'United States, France, South Korea, Indonesia', 'Japan, Canada',\n",
      "       'Croatia, Slovenia, Serbia, Montenegro', 'Russia, Spain',\n",
      "       'Germany, United States, United Kingdom, Canada',\n",
      "       'Canada, India, Thailand, United States, United Arab Emirates',\n",
      "       'United States, East Germany, West Germany',\n",
      "       'Denmark, United Kingdom, South Africa, Sweden, Belgium',\n",
      "       'Germany, Canada, United States',\n",
      "       ...\n",
      "       'Egypt', 'Mexico', 'France', 'Spain', 'Canada', 'South Korea', 'Japan',\n",
      "       'United Kingdom', 'India', 'United States'],\n",
      "      dtype='object', name='country', length=748)\n",
      "\n",
      "The number of unique categories in 'date_added' feature are 1714 which include: DatetimeIndex(['2018-07-23', '2015-06-30', '2017-06-17', '2021-09-25',\n",
      "               '2021-09-20', '2015-05-17', '2019-09-11', '2019-06-23',\n",
      "               '2018-10-21', '2015-05-10',\n",
      "               ...\n",
      "               '2018-01-01', '2021-09-01', '2021-07-01', '2018-11-01',\n",
      "               '2019-10-01', '2018-10-01', '2019-12-31', '2018-03-01',\n",
      "               '2019-11-01', '2020-01-01'],\n",
      "              dtype='datetime64[ns]', name='date_added', length=1714, freq=None)\n",
      "\n",
      "The number of unique categories in 'rating' feature are 17 which include: Index(['84 min', '74 min', '66 min', 'UR', 'NC-17', 'TV-Y7-FV', 'G', 'NR',\n",
      "       'TV-G', 'PG', 'TV-Y', 'TV-Y7', 'PG-13', 'R', 'TV-PG', 'TV-14', 'TV-MA'],\n",
      "      dtype='object', name='rating')\n",
      "\n",
      "The number of unique categories in 'duration' feature are 220 which include: Index(['17 Seasons', '224 min', '208 min', '194 min', '9 min', '5 min',\n",
      "       '233 min', '253 min', '230 min', '237 min',\n",
      "       ...\n",
      "       '96 min', '95 min', '91 min', '97 min', '94 min', '93 min', '90 min',\n",
      "       '3 Seasons', '2 Seasons', '1 Season'],\n",
      "      dtype='object', name='duration', length=220)\n",
      "\n",
      "The number of unique categories in 'listed_in' feature are 514 which include: Index(['Cult Movies, Dramas, Thrillers',\n",
      "       'Crime TV Shows, TV Dramas, TV Horror',\n",
      "       'British TV Shows, Docuseries, Reality TV',\n",
      "       'Crime TV Shows, Romantic TV Shows, Spanish-Language TV Shows',\n",
      "       'Anime Series, Crime TV Shows, TV Thrillers',\n",
      "       'Children & Family Movies, Classic Movies',\n",
      "       'Action & Adventure, Cult Movies, Dramas',\n",
      "       'Documentaries, Faith & Spirituality, Music & Musicals',\n",
      "       'Action & Adventure, Anime Features',\n",
      "       'International TV Shows, Kids' TV, TV Mysteries',\n",
      "       ...\n",
      "       'Dramas, International Movies, Romantic Movies',\n",
      "       'Documentaries, International Movies',\n",
      "       'Children & Family Movies, Comedies', 'Children & Family Movies',\n",
      "       'Kids' TV', 'Dramas, Independent Movies, International Movies',\n",
      "       'Comedies, Dramas, International Movies', 'Stand-Up Comedy',\n",
      "       'Documentaries', 'Dramas, International Movies'],\n",
      "      dtype='object', name='listed_in', length=514)\n",
      "\n",
      "The number of unique categories in 'description' feature are 8775 which include: Index(['Hiding out in Jeju Island following a brutal tragedy, a wronged mobster with a target on his back connects with a woman who has her own demons.',\n",
      "       'After most of her family is murdered in a terrorist bombing, a young woman is unknowingly lured into joining the very group that killed them.',\n",
      "       'When the clever but socially-awkward Tetê joins a new school, she'll do anything to fit in. But the queen bee among her classmates has other ideas.',\n",
      "       'Cameras following Bengaluru police on the job offer a rare glimpse into the complex and challenging inner workings of four major crime investigations.',\n",
      "       'Students of color navigate the daily slights and slippery politics of life at an Ivy League college that's not nearly as \"post-racial\" as it thinks.',\n",
      "       'Declassified documents reveal the post-WWII life of Otto Skorzeny, a close Hitler ally who escaped to Spain and became an adviser to world presidents.',\n",
      "       'Friends Mai, Oto and Vik's games at the park become magical adventures, thanks to Yoko, who can turn playgrounds into spaceships and camping sites.',\n",
      "       'Vik meets new friends in a new city, where they go on exciting adventures together with a magical being. But soon, his family must move again.',\n",
      "       'With the mind of a human being, and the body of whichever animal he chooses to be, a young boy protects the world from danger.',\n",
      "       'A gifted young ballet dancer struggles to find her footing in an uptight ballet school that brings her and her family to a brand-new neighborhood.',\n",
      "       ...\n",
      "       'On India's Independence Day, a zany mishap in a Mumbai chawl disrupts a young love story while compelling the residents to unite in aid of a little boy.',\n",
      "       'As a woman scours Hyderabad for her missing husband, she becomes entangled in a conspiracy that suggests there’s more to the mystery than meets the eye.',\n",
      "       'With their biggest foe seemingly defeated, InuYasha and his friends return to everyday life. But the peace is soon shattered by an emerging new enemy.',\n",
      "       'The Great Dog Demon beaqueathed one of the Three Swords of the Fang to each of his two sons. Now the evil power of the third sword has been awakened.',\n",
      "       'Secrets bubble to the surface after a sensual encounter and an unforeseen crime entangle two friends and a woman caught between them.',\n",
      "       'As a blind librarian, dispirited cricketer and desolate psychiatrist each seek retribution and release, their lives overlap under eerie influences.',\n",
      "       'A surly septuagenarian gets another chance at her 20s after having her photo snapped at a studio that magically takes 50 years off her life.',\n",
      "       'Multiple women report their husbands as missing but when it appears they are looking for the same man, a police officer traces their cryptic connection.',\n",
      "       'Challenged to compose 100 songs before he can marry the girl he loves, a tortured but passionate singer-songwriter embarks on a poignant musical journey.',\n",
      "       'Paranormal activity at a lush, abandoned property alarms a group eager to redevelop the site, but the eerie events may not be as unearthly as they think.'],\n",
      "      dtype='object', name='description', length=8775)\n",
      "\n"
     ]
    }
   ],
   "source": [
    "for feature in categoricalFeat: # printing the unique values of the categorical features\n",
    "    print(\"The number of unique categories in '{}' feature are {} which include: {}\\n\".format(feature, df[feature].nunique(), df[feature].value_counts().sort_values().index))"
   ]
  },
  {
   "cell_type": "code",
   "execution_count": 11,
   "id": "96335e7b",
   "metadata": {
    "colab": {
     "base_uri": "https://localhost:8080/",
     "height": 449
    },
    "executionInfo": {
     "elapsed": 346,
     "status": "ok",
     "timestamp": 1746411476983,
     "user": {
      "displayName": "Tajwinder Singh",
      "userId": "00752918548403413662"
     },
     "user_tz": -330
    },
    "id": "96335e7b",
    "outputId": "673c2d09-bca4-447a-b6d1-a124beae65e2"
   },
   "outputs": [
    {
     "data": {
      "image/png": "[encoded data removed]",
      "text/plain": [
       "<Figure size 640x480 with 1 Axes>"
      ]
     },
     "metadata": {},
     "output_type": "display_data"
    }
   ],
   "source": [
    "sns.countplot(x=df['type'], hue = df['type'], legend = False, palette = 'flare') # countplot of 'type'\n",
    "plt.title(\"Countplot of 'type'\")\n",
    "plt.show()"
   ]
  },
  {
   "cell_type": "code",
   "execution_count": 12,
   "id": "e949c632",
   "metadata": {
    "colab": {
     "base_uri": "https://localhost:8080/",
     "height": 554
    },
    "executionInfo": {
     "elapsed": 70,
     "status": "ok",
     "timestamp": 1746411477056,
     "user": {
      "displayName": "Tajwinder Singh",
      "userId": "00752918548403413662"
     },
     "user_tz": -330
    },
    "id": "e949c632",
    "outputId": "bf88a78e-503c-4aa6-cecd-92977a52397e"
   },
   "outputs": [
    {
     "data": {
      "text/plain": [
       "date_added_year\n",
       "2008.0       2\n",
       "2009.0       2\n",
       "2010.0       1\n",
       "2011.0      13\n",
       "2012.0       3\n",
       "2013.0      11\n",
       "2014.0      24\n",
       "2015.0      82\n",
       "2016.0     429\n",
       "2017.0    1188\n",
       "2018.0    1649\n",
       "2019.0    2016\n",
       "2020.0    1879\n",
       "2021.0    1498\n",
       "Name: count, dtype: int64"
      ]
     },
     "execution_count": 12,
     "metadata": {},
     "output_type": "execute_result"
    }
   ],
   "source": [
    "df['date_added_year'].value_counts().sort_index() # checking value counts of 'date_added_year'"
   ]
  },
  {
   "cell_type": "code",
   "execution_count": 13,
   "id": "8a1e6633",
   "metadata": {
    "colab": {
     "base_uri": "https://localhost:8080/",
     "height": 163
    },
    "executionInfo": {
     "elapsed": 114,
     "status": "ok",
     "timestamp": 1746411477172,
     "user": {
      "displayName": "Tajwinder Singh",
      "userId": "00752918548403413662"
     },
     "user_tz": -330
    },
    "id": "8a1e6633",
    "outputId": "7c905be4-b34d-46c5-e284-265282ae9ac8"
   },
   "outputs": [
    {
     "data": {
      "text/html": [
       "<div>\n",
       "<style scoped>\n",
       "    .dataframe tbody tr th:only-of-type {\n",
       "        vertical-align: middle;\n",
       "    }\n",
       "\n",
       "    .dataframe tbody tr th {\n",
       "        vertical-align: top;\n",
       "    }\n",
       "\n",
       "    .dataframe thead th {\n",
       "        text-align: right;\n",
       "    }\n",
       "</style>\n",
       "<table border=\"1\" class=\"dataframe\">\n",
       "  <thead>\n",
       "    <tr style=\"text-align: right;\">\n",
       "      <th>date_added_year</th>\n",
       "      <th>2008.0</th>\n",
       "      <th>2009.0</th>\n",
       "      <th>2010.0</th>\n",
       "      <th>2011.0</th>\n",
       "      <th>2012.0</th>\n",
       "      <th>2013.0</th>\n",
       "      <th>2014.0</th>\n",
       "      <th>2015.0</th>\n",
       "      <th>2016.0</th>\n",
       "      <th>2017.0</th>\n",
       "      <th>2018.0</th>\n",
       "      <th>2019.0</th>\n",
       "      <th>2020.0</th>\n",
       "      <th>2021.0</th>\n",
       "    </tr>\n",
       "    <tr>\n",
       "      <th>type</th>\n",
       "      <th></th>\n",
       "      <th></th>\n",
       "      <th></th>\n",
       "      <th></th>\n",
       "      <th></th>\n",
       "      <th></th>\n",
       "      <th></th>\n",
       "      <th></th>\n",
       "      <th></th>\n",
       "      <th></th>\n",
       "      <th></th>\n",
       "      <th></th>\n",
       "      <th></th>\n",
       "      <th></th>\n",
       "    </tr>\n",
       "  </thead>\n",
       "  <tbody>\n",
       "    <tr>\n",
       "      <th>Movie</th>\n",
       "      <td>1.0</td>\n",
       "      <td>2.0</td>\n",
       "      <td>1.0</td>\n",
       "      <td>13.0</td>\n",
       "      <td>3.0</td>\n",
       "      <td>6.0</td>\n",
       "      <td>19.0</td>\n",
       "      <td>56.0</td>\n",
       "      <td>253.0</td>\n",
       "      <td>839.0</td>\n",
       "      <td>1237.0</td>\n",
       "      <td>1424.0</td>\n",
       "      <td>1284.0</td>\n",
       "      <td>993.0</td>\n",
       "    </tr>\n",
       "    <tr>\n",
       "      <th>TV Show</th>\n",
       "      <td>1.0</td>\n",
       "      <td>NaN</td>\n",
       "      <td>NaN</td>\n",
       "      <td>NaN</td>\n",
       "      <td>NaN</td>\n",
       "      <td>5.0</td>\n",
       "      <td>5.0</td>\n",
       "      <td>26.0</td>\n",
       "      <td>176.0</td>\n",
       "      <td>349.0</td>\n",
       "      <td>412.0</td>\n",
       "      <td>592.0</td>\n",
       "      <td>595.0</td>\n",
       "      <td>505.0</td>\n",
       "    </tr>\n",
       "  </tbody>\n",
       "</table>\n",
       "</div>"
      ],
      "text/plain": [
       "date_added_year  2008.0  2009.0  2010.0  2011.0  2012.0  2013.0  2014.0  \\\n",
       "type                                                                      \n",
       "Movie               1.0     2.0     1.0    13.0     3.0     6.0    19.0   \n",
       "TV Show             1.0     NaN     NaN     NaN     NaN     5.0     5.0   \n",
       "\n",
       "date_added_year  2015.0  2016.0  2017.0  2018.0  2019.0  2020.0  2021.0  \n",
       "type                                                                     \n",
       "Movie              56.0   253.0   839.0  1237.0  1424.0  1284.0   993.0  \n",
       "TV Show            26.0   176.0   349.0   412.0   592.0   595.0   505.0  "
      ]
     },
     "execution_count": 13,
     "metadata": {},
     "output_type": "execute_result"
    }
   ],
   "source": [
    "type_year = df.groupby('type')['date_added_year'].value_counts().unstack() # grouping 'type' on the basis of 'date_added_year'\n",
    "type_year"
   ]
  },
  {
   "cell_type": "code",
   "execution_count": 14,
   "id": "d0e43083",
   "metadata": {
    "colab": {
     "base_uri": "https://localhost:8080/"
    },
    "executionInfo": {
     "elapsed": 64,
     "status": "ok",
     "timestamp": 1746411477239,
     "user": {
      "displayName": "Tajwinder Singh",
      "userId": "00752918548403413662"
     },
     "user_tz": -330
    },
    "id": "d0e43083",
    "outputId": "7dfa3b97-c173-4255-f32c-6e608a1dc46f"
   },
   "outputs": [
    {
     "data": {
      "text/plain": [
       "Index([2008.0, 2009.0, 2010.0, 2011.0, 2012.0, 2013.0, 2014.0, 2015.0, 2016.0,\n",
       "       2017.0, 2018.0, 2019.0, 2020.0, 2021.0],\n",
       "      dtype='float64', name='date_added_year')"
      ]
     },
     "execution_count": 14,
     "metadata": {},
     "output_type": "execute_result"
    }
   ],
   "source": [
    "type_year.columns # column check"
   ]
  },
  {
   "cell_type": "code",
   "execution_count": 15,
   "id": "a9f2a175",
   "metadata": {
    "colab": {
     "base_uri": "https://localhost:8080/",
     "height": 472
    },
    "executionInfo": {
     "elapsed": 605,
     "status": "ok",
     "timestamp": 1746411477847,
     "user": {
      "displayName": "Tajwinder Singh",
      "userId": "00752918548403413662"
     },
     "user_tz": -330
    },
    "id": "a9f2a175",
    "outputId": "2d0a411b-b660-417e-a30c-662c95406368"
   },
   "outputs": [
    {
     "data": {
      "image/png": "[encoded data removed]",
      "text/plain": [
       "<Figure size 640x480 with 1 Axes>"
      ]
     },
     "metadata": {},
     "output_type": "display_data"
    }
   ],
   "source": [
    "sns.lineplot(x = [2008.0, 2009.0, 2010.0, 2011.0, 2012.0, 2013.0, 2014.0, 2015.0, 2016.0,  # Visualizing Movie trend over the years\n",
    "       2017.0, 2018.0, 2019.0, 2020.0, 2021.0], y = type_year.iloc[0])\n",
    "plt.title('Count of Movies added over the years on Netflix')\n",
    "plt.ylabel('Count of movies')\n",
    "plt.xlabel('Year')\n",
    "plt.show()"
   ]
  },
  {
   "cell_type": "code",
   "execution_count": 16,
   "id": "69364ab7",
   "metadata": {
    "colab": {
     "base_uri": "https://localhost:8080/",
     "height": 472
    },
    "executionInfo": {
     "elapsed": 467,
     "status": "ok",
     "timestamp": 1746411478318,
     "user": {
      "displayName": "Tajwinder Singh",
      "userId": "00752918548403413662"
     },
     "user_tz": -330
    },
    "id": "69364ab7",
    "outputId": "76d086c7-a3e8-4bda-c75a-013c123f9d72"
   },
   "outputs": [
    {
     "data": {
      "image/png": "[encoded data removed]",
      "text/plain": [
       "<Figure size 640x480 with 1 Axes>"
      ]
     },
     "metadata": {},
     "output_type": "display_data"
    }
   ],
   "source": [
    "sns.lineplot(x = [2008.0, 2009.0, 2010.0, 2011.0, 2012.0, 2013.0, 2014.0, 2015.0, 2016.0, # Visualizing TV shows trend over the year\n",
    "       2017.0, 2018.0, 2019.0, 2020.0, 2021.0], y = type_year.iloc[1])\n",
    "plt.title('Count of TV shows added over the years on Netflix')\n",
    "plt.ylabel('Count of TV shows')\n",
    "plt.xlabel('Year')\n",
    "plt.show()"
   ]
  },
  {
   "cell_type": "markdown",
   "id": "528ffc00",
   "metadata": {
    "id": "528ffc00"
   },
   "source": [
    "## Observations from the above plots:\n",
    "- ### The count of Movies is more than the count of TV Shows since the count of Movies available in this dataset are twice of the count of TV Shows. Also, movies along with TV shows were added more in the year 2019 which can be seen in the line plots.\n",
    "\n",
    "- ### It can be seen in the line plot of TV show that there was no trend of adding content on Netflix before the year 2015, which means that OTT platforms weren't in that hype as they are now. At present, these platforms are more popular for streaming TV shows."
   ]
  },
  {
   "cell_type": "code",
   "execution_count": 17,
   "id": "07c76ef7",
   "metadata": {
    "colab": {
     "base_uri": "https://localhost:8080/",
     "height": 599
    },
    "executionInfo": {
     "elapsed": 699,
     "status": "ok",
     "timestamp": 1746411479020,
     "user": {
      "displayName": "Tajwinder Singh",
      "userId": "00752918548403413662"
     },
     "user_tz": -330
    },
    "id": "07c76ef7",
    "outputId": "0c02295a-59a0-4308-a746-691d337ca2a5"
   },
   "outputs": [
    {
     "data": {
      "image/png": "[encoded data removed]",
      "text/plain": [
       "<Figure size 640x480 with 1 Axes>"
      ]
     },
     "metadata": {},
     "output_type": "display_data"
    }
   ],
   "source": [
    "top_directors_count = df['director'].value_counts().sort_values(ascending= False).head(10) # capturing the top 10 directors on the basis of movie or tv show count.\n",
    "\n",
    "top_directors_index = top_directors_count.index\n",
    "\n",
    "topDirectorsDf = df[df['director'].isin(top_directors_index)] # creating a dataframe of top 10 directors on the basis of movie or tv show count.\n",
    "\n",
    "\n",
    "# countplot of top_directors_count\n",
    "sns.countplot(x=topDirectorsDf['director'],hue = topDirectorsDf['director'], legend = False, palette = 'hls')\n",
    "plt.title(\"Countplot of Top 10 Directors On The Basis Of Count Of The Added Content\")\n",
    "plt.xticks(rotation = 90)\n",
    "plt.show()"
   ]
  },
  {
   "cell_type": "code",
   "execution_count": 18,
   "id": "d0942457",
   "metadata": {
    "colab": {
     "base_uri": "https://localhost:8080/",
     "height": 599
    },
    "executionInfo": {
     "elapsed": 416,
     "status": "ok",
     "timestamp": 1746411479438,
     "user": {
      "displayName": "Tajwinder Singh",
      "userId": "00752918548403413662"
     },
     "user_tz": -330
    },
    "id": "d0942457",
    "outputId": "51c80ba6-2f75-4110-9cac-504eb38e687e"
   },
   "outputs": [
    {
     "data": {
      "image/png": "[encoded data removed]",
      "text/plain": [
       "<Figure size 640x480 with 1 Axes>"
      ]
     },
     "metadata": {},
     "output_type": "display_data"
    }
   ],
   "source": [
    "sns.countplot(x=topDirectorsDf['director'], hue = df['type']) # creating a countplot of top 10 directors on the basis of 'type'\n",
    "plt.xticks(rotation = 90)\n",
    "plt.title(\"Countplot of Top 10 Directors On The Basis Of Content Type\")\n",
    "plt.show()"
   ]
  },
  {
   "cell_type": "markdown",
   "id": "5175124e",
   "metadata": {
    "id": "5175124e"
   },
   "source": [
    "## Observations from the above countplot:\n",
    "- ### Rajiv Chilaka, Raúl Campos, Jan Suter, Suhas Kadav, Marcus Raboy, Jay Karas, Cathy Garcia-Molina, Martin Scorsese, Youssef Chahine, Jay Chapman and Steven Spielberg have made a large number of content which is available on Netflix and Rajiv Chilaka is leading in terms of more content created.\n",
    "\n",
    "- ### Every director has created Movies except Marcus Raboy who has created a TV Show.\n"
   ]
  },
  {
   "cell_type": "code",
   "execution_count": 19,
   "id": "43911498",
   "metadata": {
    "colab": {
     "base_uri": "https://localhost:8080/"
    },
    "executionInfo": {
     "elapsed": 18,
     "status": "ok",
     "timestamp": 1746411479459,
     "user": {
      "displayName": "Tajwinder Singh",
      "userId": "00752918548403413662"
     },
     "user_tz": -330
    },
    "id": "43911498",
    "outputId": "f4936b5d-dad4-4b34-fd95-728e2c4752a1"
   },
   "outputs": [
    {
     "data": {
      "text/plain": [
       "Index(['David Attenborough',\n",
       "       'Vatsal Dubey, Julie Tejwani, Rupa Bhimani, Jigna Bhardwaj, Rajesh Kava, Mousam, Swapnil',\n",
       "       'Samuel West', 'Jeff Dunham',\n",
       "       'Michela Luci, Jamie Watson, Eric Peterson, Anna Claire Bartlam, Nicolas Aqui, Cory Doran, Julie Lemieux, Derek McGrath',\n",
       "       'Kevin Hart', 'Craig Sechler',\n",
       "       'David Spade, London Hughes, Fortune Feimster', 'Jim Gaffigan',\n",
       "       'Bill Burr'],\n",
       "      dtype='object', name='cast')"
      ]
     },
     "execution_count": 19,
     "metadata": {},
     "output_type": "execute_result"
    }
   ],
   "source": [
    "topFeaturedCast = df['cast'].value_counts().sort_values(ascending=False).head(10).index # capturing top 10 featured cast\n",
    "top_cast_df = df[df['cast'].isin(topFeaturedCast)]\n",
    "topFeaturedCast"
   ]
  },
  {
   "cell_type": "code",
   "execution_count": 20,
   "id": "419f6540",
   "metadata": {
    "colab": {
     "base_uri": "https://localhost:8080/",
     "height": 1000
    },
    "executionInfo": {
     "elapsed": 661,
     "status": "ok",
     "timestamp": 1746411480122,
     "user": {
      "displayName": "Tajwinder Singh",
      "userId": "00752918548403413662"
     },
     "user_tz": -330
    },
    "id": "419f6540",
    "outputId": "82d4510a-43cd-4983-d60e-560279127073"
   },
   "outputs": [
    {
     "data": {
      "image/png": "[encoded data removed]",
      "text/plain": [
       "<Figure size 640x480 with 1 Axes>"
      ]
     },
     "metadata": {},
     "output_type": "display_data"
    }
   ],
   "source": [
    "sns.countplot(x=top_cast_df['cast'], hue = top_cast_df['type']) # creating countplot of top featured cast\n",
    "plt.xticks(rotation = 90)\n",
    "plt.title(\"Countplot of Top 10 Featured Cast Based On Content-Type Count\")\n",
    "plt.show()"
   ]
  },
  {
   "cell_type": "code",
   "execution_count": 21,
   "id": "5a6e5af0",
   "metadata": {},
   "outputs": [
    {
     "data": {
      "application/vnd.plotly.v1+json": {
       "config": {
        "plotlyServerURL": "https://plot.ly"
       },
       "data": [
        {
         "branchvalues": "total",
         "domain": {
          "x": [
           0,
           1
          ],
          "y": [
           0,
           1
          ]
         },
         "hovertemplate": "labels=%{label}<br>count=%{value}<br>parent=%{parent}<br>id=%{id}<extra></extra>",
         "ids": [
          "Vatsal Dubey, Julie Tejwani, Rupa Bhimani, Jigna Bhardwaj, Rajesh Kava, Mousam, Swapnil/Chhota Bheem",
          "Vatsal Dubey, Julie Tejwani, Rupa Bhimani, Jigna Bhardwaj, Rajesh Kava, Mousam, Swapnil/Chhota Bheem - Neeli Pahaadi",
          "Vatsal Dubey, Julie Tejwani, Rupa Bhimani, Jigna Bhardwaj, Rajesh Kava, Mousam, Swapnil/Chhota Bheem & Ganesh",
          "Vatsal Dubey, Julie Tejwani, Rupa Bhimani, Jigna Bhardwaj, Rajesh Kava, Mousam, Swapnil/Chhota Bheem & Krishna: Mayanagari",
          "Vatsal Dubey, Julie Tejwani, Rupa Bhimani, Jigna Bhardwaj, Rajesh Kava, Mousam, Swapnil/Chhota Bheem And The Broken Amulet",
          "Vatsal Dubey, Julie Tejwani, Rupa Bhimani, Jigna Bhardwaj, Rajesh Kava, Mousam, Swapnil/Chhota Bheem And The Crown of Valhalla",
          "Vatsal Dubey, Julie Tejwani, Rupa Bhimani, Jigna Bhardwaj, Rajesh Kava, Mousam, Swapnil/Chhota Bheem and the Incan Adventure",
          "Vatsal Dubey, Julie Tejwani, Rupa Bhimani, Jigna Bhardwaj, Rajesh Kava, Mousam, Swapnil/Chhota Bheem and The ShiNobi Secret",
          "Vatsal Dubey, Julie Tejwani, Rupa Bhimani, Jigna Bhardwaj, Rajesh Kava, Mousam, Swapnil/Chhota Bheem Aur Hanuman",
          "Vatsal Dubey, Julie Tejwani, Rupa Bhimani, Jigna Bhardwaj, Rajesh Kava, Mousam, Swapnil/Chhota Bheem aur Krishna vs Zimbara",
          "Vatsal Dubey, Julie Tejwani, Rupa Bhimani, Jigna Bhardwaj, Rajesh Kava, Mousam, Swapnil/Chhota Bheem: Bheem vs Aliens",
          "Vatsal Dubey, Julie Tejwani, Rupa Bhimani, Jigna Bhardwaj, Rajesh Kava, Mousam, Swapnil/Chhota Bheem: Dholakpur to Kathmandu",
          "Vatsal Dubey, Julie Tejwani, Rupa Bhimani, Jigna Bhardwaj, Rajesh Kava, Mousam, Swapnil/Chhota Bheem: Dus Pe Dus",
          "Vatsal Dubey, Julie Tejwani, Rupa Bhimani, Jigna Bhardwaj, Rajesh Kava, Mousam, Swapnil/Chhota Bheem: The Rise of Kirmada",
          "David Spade, London Hughes, Fortune Feimster/Bridgerton - The Afterparty",
          "David Spade, London Hughes, Fortune Feimster/Bling Empire - The Afterparty",
          "David Spade, London Hughes, Fortune Feimster/Cobra Kai - The Afterparty",
          "David Spade, London Hughes, Fortune Feimster/The Circle - The Afterparty",
          "David Attenborough/Life in Color with David Attenborough",
          "David Spade, London Hughes, Fortune Feimster/The Netflix Afterparty: The Best Shows of The Worst Year",
          "Kevin Hart/Kevin Hart: Zero F**ks Given",
          "David Attenborough/David Attenborough: A Life on Our Planet",
          "Michela Luci, Jamie Watson, Eric Peterson, Anna Claire Bartlam, Nicolas Aqui, Cory Doran, Julie Lemieux, Derek McGrath/True: Friendship Day",
          "Michela Luci, Jamie Watson, Eric Peterson, Anna Claire Bartlam, Nicolas Aqui, Cory Doran, Julie Lemieux, Derek McGrath/True: Rainbow Rescue",
          "Michela Luci, Jamie Watson, Eric Peterson, Anna Claire Bartlam, Nicolas Aqui, Cory Doran, Julie Lemieux, Derek McGrath/True: Terrific Tales",
          "Kevin Hart/Kevin Hart: I'm a Grown Little Man",
          "Jeff Dunham/Jeff Dunham: Unhinged in Hollywood",
          "Michela Luci, Jamie Watson, Eric Peterson, Anna Claire Bartlam, Nicolas Aqui, Cory Doran, Julie Lemieux, Derek McGrath/True: Winter Wishes",
          "Iliza Shlesinger/Iliza Shlesinger: Unveiled",
          "Jeff Dunham/Jeff Dunham: All Over the Map",
          "Michela Luci, Jamie Watson, Eric Peterson, Anna Claire Bartlam, Nicolas Aqui, Cory Doran, Julie Lemieux, Derek McGrath/True: Grabbleapple Harvest",
          "Jeff Dunham/Jeff Dunham: Beside Himself",
          "Michela Luci, Jamie Watson, Eric Peterson, Anna Claire Bartlam, Nicolas Aqui, Cory Doran, Julie Lemieux, Derek McGrath/True: Tricky Treat Day",
          "Bill Burr/Bill Burr: Paper Tiger",
          "David Attenborough/Our Planet - Behind The Scenes",
          "David Attenborough/Our Planet",
          "Kevin Hart/Kevin Hart: Irresponsible",
          "Jeff Dunham/Jeff Dunham: Arguing with Myself",
          "Jeff Dunham/Jeff Dunham: Controlled Chaos",
          "Jeff Dunham/Jeff Dunham: Minding the Monsters",
          "Iliza Shlesinger/Iliza Shlesinger: Elder Millennial",
          "Bill Burr/Bill Burr: You People Are All the Same",
          "Jeff Dunham/Jeff Dunham: Relative Disaster",
          "Bill Burr/Bill Burr: Walk Your Way Out",
          "Iliza Shlesinger/Iliza Shlesinger: Confirmed Kills",
          "Iliza Shlesinger/Iliza Shlesinger: Freezing Hot",
          "Bill Burr/Bill Burr: I'm Sorry You Feel That Way",
          "David Attenborough/Africa",
          "Bill Burr/Bill Burr: Let It Go",
          "David Attenborough/Blue Planet II",
          "David Attenborough/Frozen Planet",
          "David Attenborough/Frozen Planet: On Thin Ice",
          "David Attenborough/Frozen Planet: The Epic Journey",
          "Iliza Shlesinger/Iliza Shlesinger: War Paint",
          "Kevin Hart/Kevin Hart: Laugh at My Pain",
          "Kevin Hart/Kevin Hart: Let Me Explain",
          "Kevin Hart/Kevin Hart: Seriously Funny",
          "David Attenborough/Life on Location",
          "David Attenborough/Life Story",
          "David Attenborough/Nature: Raising the Dinosaur Giant",
          "David Attenborough/Nature's Great Events (2009)",
          "David Attenborough/Nature's Great Events: Diaries",
          "Craig Sechler/NOVA: Bird Brain",
          "Craig Sechler/NOVA: Day the Dinosaurs Died",
          "Craig Sechler/NOVA: Death Dive to Saturn",
          "Craig Sechler/NOVA: Killer Floods",
          "Craig Sechler/NOVA: Killer Hurricanes",
          "Craig Sechler/NOVA: Killer Volcanoes",
          "David Attenborough/Planet Earth II",
          "David Attenborough/Planet Earth: The Complete Collection",
          "Samuel West/Secrets of Althorp - The Spencers",
          "Samuel West/Secrets of Chatsworth",
          "Samuel West/Secrets of Henry VIII's Palace: Hampton Court",
          "Samuel West/Secrets of Her Majesty's Secret Service",
          "Samuel West/Secrets of Highclere Castle",
          "Samuel West/Secrets of Scotland Yard",
          "Samuel West/Secrets of Selfridges",
          "Samuel West/Secrets of the Tower of London",
          "Samuel West/Secrets of Underground London",
          "Samuel West/Secrets of Westminster",
          "David Attenborough/The Blue Planet: A Natural History of the Oceans",
          "David Attenborough/The Hunt",
          "David Attenborough/The Making of Frozen Planet",
          "David Spade, London Hughes, Fortune Feimster/The Netflix Afterparty",
          "Vatsal Dubey, Julie Tejwani, Rupa Bhimani, Jigna Bhardwaj, Rajesh Kava, Mousam, Swapnil",
          "David Spade, London Hughes, Fortune Feimster",
          "David Attenborough",
          "Kevin Hart",
          "Michela Luci, Jamie Watson, Eric Peterson, Anna Claire Bartlam, Nicolas Aqui, Cory Doran, Julie Lemieux, Derek McGrath",
          "Jeff Dunham",
          "Iliza Shlesinger",
          "Bill Burr",
          "Craig Sechler",
          "Samuel West"
         ],
         "labels": [
          "Chhota Bheem",
          "Chhota Bheem - Neeli Pahaadi",
          "Chhota Bheem & Ganesh",
          "Chhota Bheem & Krishna: Mayanagari",
          "Chhota Bheem And The Broken Amulet",
          "Chhota Bheem And The Crown of Valhalla",
          "Chhota Bheem and the Incan Adventure",
          "Chhota Bheem and The ShiNobi Secret",
          "Chhota Bheem Aur Hanuman",
          "Chhota Bheem aur Krishna vs Zimbara",
          "Chhota Bheem: Bheem vs Aliens",
          "Chhota Bheem: Dholakpur to Kathmandu",
          "Chhota Bheem: Dus Pe Dus",
          "Chhota Bheem: The Rise of Kirmada",
          "Bridgerton - The Afterparty",
          "Bling Empire - The Afterparty",
          "Cobra Kai - The Afterparty",
          "The Circle - The Afterparty",
          "Life in Color with David Attenborough",
          "The Netflix Afterparty: The Best Shows of The Worst Year",
          "Kevin Hart: Zero F**ks Given",
          "David Attenborough: A Life on Our Planet",
          "True: Friendship Day",
          "True: Rainbow Rescue",
          "True: Terrific Tales",
          "Kevin Hart: I'm a Grown Little Man",
          "Jeff Dunham: Unhinged in Hollywood",
          "True: Winter Wishes",
          "Iliza Shlesinger: Unveiled",
          "Jeff Dunham: All Over the Map",
          "True: Grabbleapple Harvest",
          "Jeff Dunham: Beside Himself",
          "True: Tricky Treat Day",
          "Bill Burr: Paper Tiger",
          "Our Planet - Behind The Scenes",
          "Our Planet",
          "Kevin Hart: Irresponsible",
          "Jeff Dunham: Arguing with Myself",
          "Jeff Dunham: Controlled Chaos",
          "Jeff Dunham: Minding the Monsters",
          "Iliza Shlesinger: Elder Millennial",
          "Bill Burr: You People Are All the Same",
          "Jeff Dunham: Relative Disaster",
          "Bill Burr: Walk Your Way Out",
          "Iliza Shlesinger: Confirmed Kills",
          "Iliza Shlesinger: Freezing Hot",
          "Bill Burr: I'm Sorry You Feel That Way",
          "Africa",
          "Bill Burr: Let It Go",
          "Blue Planet II",
          "Frozen Planet",
          "Frozen Planet: On Thin Ice",
          "Frozen Planet: The Epic Journey",
          "Iliza Shlesinger: War Paint",
          "Kevin Hart: Laugh at My Pain",
          "Kevin Hart: Let Me Explain",
          "Kevin Hart: Seriously Funny",
          "Life on Location",
          "Life Story",
          "Nature: Raising the Dinosaur Giant",
          "Nature's Great Events (2009)",
          "Nature's Great Events: Diaries",
          "NOVA: Bird Brain",
          "NOVA: Day the Dinosaurs Died",
          "NOVA: Death Dive to Saturn",
          "NOVA: Killer Floods",
          "NOVA: Killer Hurricanes",
          "NOVA: Killer Volcanoes",
          "Planet Earth II",
          "Planet Earth: The Complete Collection",
          "Secrets of Althorp - The Spencers",
          "Secrets of Chatsworth",
          "Secrets of Henry VIII's Palace: Hampton Court",
          "Secrets of Her Majesty's Secret Service",
          "Secrets of Highclere Castle",
          "Secrets of Scotland Yard",
          "Secrets of Selfridges",
          "Secrets of the Tower of London",
          "Secrets of Underground London",
          "Secrets of Westminster",
          "The Blue Planet: A Natural History of the Oceans",
          "The Hunt",
          "The Making of Frozen Planet",
          "The Netflix Afterparty",
          "Vatsal Dubey, Julie Tejwani, Rupa Bhimani, Jigna Bhardwaj, Rajesh Kava, Mousam, Swapnil",
          "David Spade, London Hughes, Fortune Feimster",
          "David Attenborough",
          "Kevin Hart",
          "Michela Luci, Jamie Watson, Eric Peterson, Anna Claire Bartlam, Nicolas Aqui, Cory Doran, Julie Lemieux, Derek McGrath",
          "Jeff Dunham",
          "Iliza Shlesinger",
          "Bill Burr",
          "Craig Sechler",
          "Samuel West"
         ],
         "name": "",
         "parents": [
          "Vatsal Dubey, Julie Tejwani, Rupa Bhimani, Jigna Bhardwaj, Rajesh Kava, Mousam, Swapnil",
          "Vatsal Dubey, Julie Tejwani, Rupa Bhimani, Jigna Bhardwaj, Rajesh Kava, Mousam, Swapnil",
          "Vatsal Dubey, Julie Tejwani, Rupa Bhimani, Jigna Bhardwaj, Rajesh Kava, Mousam, Swapnil",
          "Vatsal Dubey, Julie Tejwani, Rupa Bhimani, Jigna Bhardwaj, Rajesh Kava, Mousam, Swapnil",
          "Vatsal Dubey, Julie Tejwani, Rupa Bhimani, Jigna Bhardwaj, Rajesh Kava, Mousam, Swapnil",
          "Vatsal Dubey, Julie Tejwani, Rupa Bhimani, Jigna Bhardwaj, Rajesh Kava, Mousam, Swapnil",
          "Vatsal Dubey, Julie Tejwani, Rupa Bhimani, Jigna Bhardwaj, Rajesh Kava, Mousam, Swapnil",
          "Vatsal Dubey, Julie Tejwani, Rupa Bhimani, Jigna Bhardwaj, Rajesh Kava, Mousam, Swapnil",
          "Vatsal Dubey, Julie Tejwani, Rupa Bhimani, Jigna Bhardwaj, Rajesh Kava, Mousam, Swapnil",
          "Vatsal Dubey, Julie Tejwani, Rupa Bhimani, Jigna Bhardwaj, Rajesh Kava, Mousam, Swapnil",
          "Vatsal Dubey, Julie Tejwani, Rupa Bhimani, Jigna Bhardwaj, Rajesh Kava, Mousam, Swapnil",
          "Vatsal Dubey, Julie Tejwani, Rupa Bhimani, Jigna Bhardwaj, Rajesh Kava, Mousam, Swapnil",
          "Vatsal Dubey, Julie Tejwani, Rupa Bhimani, Jigna Bhardwaj, Rajesh Kava, Mousam, Swapnil",
          "Vatsal Dubey, Julie Tejwani, Rupa Bhimani, Jigna Bhardwaj, Rajesh Kava, Mousam, Swapnil",
          "David Spade, London Hughes, Fortune Feimster",
          "David Spade, London Hughes, Fortune Feimster",
          "David Spade, London Hughes, Fortune Feimster",
          "David Spade, London Hughes, Fortune Feimster",
          "David Attenborough",
          "David Spade, London Hughes, Fortune Feimster",
          "Kevin Hart",
          "David Attenborough",
          "Michela Luci, Jamie Watson, Eric Peterson, Anna Claire Bartlam, Nicolas Aqui, Cory Doran, Julie Lemieux, Derek McGrath",
          "Michela Luci, Jamie Watson, Eric Peterson, Anna Claire Bartlam, Nicolas Aqui, Cory Doran, Julie Lemieux, Derek McGrath",
          "Michela Luci, Jamie Watson, Eric Peterson, Anna Claire Bartlam, Nicolas Aqui, Cory Doran, Julie Lemieux, Derek McGrath",
          "Kevin Hart",
          "Jeff Dunham",
          "Michela Luci, Jamie Watson, Eric Peterson, Anna Claire Bartlam, Nicolas Aqui, Cory Doran, Julie Lemieux, Derek McGrath",
          "Iliza Shlesinger",
          "Jeff Dunham",
          "Michela Luci, Jamie Watson, Eric Peterson, Anna Claire Bartlam, Nicolas Aqui, Cory Doran, Julie Lemieux, Derek McGrath",
          "Jeff Dunham",
          "Michela Luci, Jamie Watson, Eric Peterson, Anna Claire Bartlam, Nicolas Aqui, Cory Doran, Julie Lemieux, Derek McGrath",
          "Bill Burr",
          "David Attenborough",
          "David Attenborough",
          "Kevin Hart",
          "Jeff Dunham",
          "Jeff Dunham",
          "Jeff Dunham",
          "Iliza Shlesinger",
          "Bill Burr",
          "Jeff Dunham",
          "Bill Burr",
          "Iliza Shlesinger",
          "Iliza Shlesinger",
          "Bill Burr",
          "David Attenborough",
          "Bill Burr",
          "David Attenborough",
          "David Attenborough",
          "David Attenborough",
          "David Attenborough",
          "Iliza Shlesinger",
          "Kevin Hart",
          "Kevin Hart",
          "Kevin Hart",
          "David Attenborough",
          "David Attenborough",
          "David Attenborough",
          "David Attenborough",
          "David Attenborough",
          "Craig Sechler",
          "Craig Sechler",
          "Craig Sechler",
          "Craig Sechler",
          "Craig Sechler",
          "Craig Sechler",
          "David Attenborough",
          "David Attenborough",
          "Samuel West",
          "Samuel West",
          "Samuel West",
          "Samuel West",
          "Samuel West",
          "Samuel West",
          "Samuel West",
          "Samuel West",
          "Samuel West",
          "Samuel West",
          "David Attenborough",
          "David Attenborough",
          "David Attenborough",
          "David Spade, London Hughes, Fortune Feimster",
          "",
          "",
          "",
          "",
          "",
          "",
          "",
          "",
          "",
          ""
         ],
         "type": "treemap",
         "values": {
          "bdata": "AQEBAQEBAQEBAQEBAQEBAQEBAQEBAQEBAQEBAQEBAQEBAQEBAQEBAQEBAQEBAQEBAQEBAQEBAQEBAQEBAQEBAQEBAQEBAQEBAQEBAQEBAQEBAQEBDgYTBgYHBQUGCg==",
          "dtype": "i1"
         }
        }
       ],
       "layout": {
        "legend": {
         "tracegroupgap": 0
        },
        "template": {
         "data": {
          "bar": [
           {
            "error_x": {
             "color": "#2a3f5f"
            },
            "error_y": {
             "color": "#2a3f5f"
            },
            "marker": {
             "line": {
              "color": "#E5ECF6",
              "width": 0.5
             },
             "pattern": {
              "fillmode": "overlay",
              "size": 10,
              "solidity": 0.2
             }
            },
            "type": "bar"
           }
          ],
          "barpolar": [
           {
            "marker": {
             "line": {
              "color": "#E5ECF6",
              "width": 0.5
             },
             "pattern": {
              "fillmode": "overlay",
              "size": 10,
              "solidity": 0.2
             }
            },
            "type": "barpolar"
           }
          ],
          "carpet": [
           {
            "aaxis": {
             "endlinecolor": "#2a3f5f",
             "gridcolor": "white",
             "linecolor": "white",
             "minorgridcolor": "white",
             "startlinecolor": "#2a3f5f"
            },
            "baxis": {
             "endlinecolor": "#2a3f5f",
             "gridcolor": "white",
             "linecolor": "white",
             "minorgridcolor": "white",
             "startlinecolor": "#2a3f5f"
            },
            "type": "carpet"
           }
          ],
          "choropleth": [
           {
            "colorbar": {
             "outlinewidth": 0,
             "ticks": ""
            },
            "type": "choropleth"
           }
          ],
          "contour": [
           {
            "colorbar": {
             "outlinewidth": 0,
             "ticks": ""
            },
            "colorscale": [
             [
              0,
              "#0d0887"
             ],
             [
              0.1111111111111111,
              "#46039f"
             ],
             [
              0.2222222222222222,
              "#7201a8"
             ],
             [
              0.3333333333333333,
              "#9c179e"
             ],
             [
              0.4444444444444444,
              "#bd3786"
             ],
             [
              0.5555555555555556,
              "#d8576b"
             ],
             [
              0.6666666666666666,
              "#ed7953"
             ],
             [
              0.7777777777777778,
              "#fb9f3a"
             ],
             [
              0.8888888888888888,
              "#fdca26"
             ],
             [
              1,
              "#f0f921"
             ]
            ],
            "type": "contour"
           }
          ],
          "contourcarpet": [
           {
            "colorbar": {
             "outlinewidth": 0,
             "ticks": ""
            },
            "type": "contourcarpet"
           }
          ],
          "heatmap": [
           {
            "colorbar": {
             "outlinewidth": 0,
             "ticks": ""
            },
            "colorscale": [
             [
              0,
              "#0d0887"
             ],
             [
              0.1111111111111111,
              "#46039f"
             ],
             [
              0.2222222222222222,
              "#7201a8"
             ],
             [
              0.3333333333333333,
              "#9c179e"
             ],
             [
              0.4444444444444444,
              "#bd3786"
             ],
             [
              0.5555555555555556,
              "#d8576b"
             ],
             [
              0.6666666666666666,
              "#ed7953"
             ],
             [
              0.7777777777777778,
              "#fb9f3a"
             ],
             [
              0.8888888888888888,
              "#fdca26"
             ],
             [
              1,
              "#f0f921"
             ]
            ],
            "type": "heatmap"
           }
          ],
          "histogram": [
           {
            "marker": {
             "pattern": {
              "fillmode": "overlay",
              "size": 10,
              "solidity": 0.2
             }
            },
            "type": "histogram"
           }
          ],
          "histogram2d": [
           {
            "colorbar": {
             "outlinewidth": 0,
             "ticks": ""
            },
            "colorscale": [
             [
              0,
              "#0d0887"
             ],
             [
              0.1111111111111111,
              "#46039f"
             ],
             [
              0.2222222222222222,
              "#7201a8"
             ],
             [
              0.3333333333333333,
              "#9c179e"
             ],
             [
              0.4444444444444444,
              "#bd3786"
             ],
             [
              0.5555555555555556,
              "#d8576b"
             ],
             [
              0.6666666666666666,
              "#ed7953"
             ],
             [
              0.7777777777777778,
              "#fb9f3a"
             ],
             [
              0.8888888888888888,
              "#fdca26"
             ],
             [
              1,
              "#f0f921"
             ]
            ],
            "type": "histogram2d"
           }
          ],
          "histogram2dcontour": [
           {
            "colorbar": {
             "outlinewidth": 0,
             "ticks": ""
            },
            "colorscale": [
             [
              0,
              "#0d0887"
             ],
             [
              0.1111111111111111,
              "#46039f"
             ],
             [
              0.2222222222222222,
              "#7201a8"
             ],
             [
              0.3333333333333333,
              "#9c179e"
             ],
             [
              0.4444444444444444,
              "#bd3786"
             ],
             [
              0.5555555555555556,
              "#d8576b"
             ],
             [
              0.6666666666666666,
              "#ed7953"
             ],
             [
              0.7777777777777778,
              "#fb9f3a"
             ],
             [
              0.8888888888888888,
              "#fdca26"
             ],
             [
              1,
              "#f0f921"
             ]
            ],
            "type": "histogram2dcontour"
           }
          ],
          "mesh3d": [
           {
            "colorbar": {
             "outlinewidth": 0,
             "ticks": ""
            },
            "type": "mesh3d"
           }
          ],
          "parcoords": [
           {
            "line": {
             "colorbar": {
              "outlinewidth": 0,
              "ticks": ""
             }
            },
            "type": "parcoords"
           }
          ],
          "pie": [
           {
            "automargin": true,
            "type": "pie"
           }
          ],
          "scatter": [
           {
            "fillpattern": {
             "fillmode": "overlay",
             "size": 10,
             "solidity": 0.2
            },
            "type": "scatter"
           }
          ],
          "scatter3d": [
           {
            "line": {
             "colorbar": {
              "outlinewidth": 0,
              "ticks": ""
             }
            },
            "marker": {
             "colorbar": {
              "outlinewidth": 0,
              "ticks": ""
             }
            },
            "type": "scatter3d"
           }
          ],
          "scattercarpet": [
           {
            "marker": {
             "colorbar": {
              "outlinewidth": 0,
              "ticks": ""
             }
            },
            "type": "scattercarpet"
           }
          ],
          "scattergeo": [
           {
            "marker": {
             "colorbar": {
              "outlinewidth": 0,
              "ticks": ""
             }
            },
            "type": "scattergeo"
           }
          ],
          "scattergl": [
           {
            "marker": {
             "colorbar": {
              "outlinewidth": 0,
              "ticks": ""
             }
            },
            "type": "scattergl"
           }
          ],
          "scattermap": [
           {
            "marker": {
             "colorbar": {
              "outlinewidth": 0,
              "ticks": ""
             }
            },
            "type": "scattermap"
           }
          ],
          "scattermapbox": [
           {
            "marker": {
             "colorbar": {
              "outlinewidth": 0,
              "ticks": ""
             }
            },
            "type": "scattermapbox"
           }
          ],
          "scatterpolar": [
           {
            "marker": {
             "colorbar": {
              "outlinewidth": 0,
              "ticks": ""
             }
            },
            "type": "scatterpolar"
           }
          ],
          "scatterpolargl": [
           {
            "marker": {
             "colorbar": {
              "outlinewidth": 0,
              "ticks": ""
             }
            },
            "type": "scatterpolargl"
           }
          ],
          "scatterternary": [
           {
            "marker": {
             "colorbar": {
              "outlinewidth": 0,
              "ticks": ""
             }
            },
            "type": "scatterternary"
           }
          ],
          "surface": [
           {
            "colorbar": {
             "outlinewidth": 0,
             "ticks": ""
            },
            "colorscale": [
             [
              0,
              "#0d0887"
             ],
             [
              0.1111111111111111,
              "#46039f"
             ],
             [
              0.2222222222222222,
              "#7201a8"
             ],
             [
              0.3333333333333333,
              "#9c179e"
             ],
             [
              0.4444444444444444,
              "#bd3786"
             ],
             [
              0.5555555555555556,
              "#d8576b"
             ],
             [
              0.6666666666666666,
              "#ed7953"
             ],
             [
              0.7777777777777778,
              "#fb9f3a"
             ],
             [
              0.8888888888888888,
              "#fdca26"
             ],
             [
              1,
              "#f0f921"
             ]
            ],
            "type": "surface"
           }
          ],
          "table": [
           {
            "cells": {
             "fill": {
              "color": "#EBF0F8"
             },
             "line": {
              "color": "white"
             }
            },
            "header": {
             "fill": {
              "color": "#C8D4E3"
             },
             "line": {
              "color": "white"
             }
            },
            "type": "table"
           }
          ]
         },
         "layout": {
          "annotationdefaults": {
           "arrowcolor": "#2a3f5f",
           "arrowhead": 0,
           "arrowwidth": 1
          },
          "autotypenumbers": "strict",
          "coloraxis": {
           "colorbar": {
            "outlinewidth": 0,
            "ticks": ""
           }
          },
          "colorscale": {
           "diverging": [
            [
             0,
             "#8e0152"
            ],
            [
             0.1,
             "#c51b7d"
            ],
            [
             0.2,
             "#de77ae"
            ],
            [
             0.3,
             "#f1b6da"
            ],
            [
             0.4,
             "#fde0ef"
            ],
            [
             0.5,
             "#f7f7f7"
            ],
            [
             0.6,
             "#e6f5d0"
            ],
            [
             0.7,
             "#b8e186"
            ],
            [
             0.8,
             "#7fbc41"
            ],
            [
             0.9,
             "#4d9221"
            ],
            [
             1,
             "#276419"
            ]
           ],
           "sequential": [
            [
             0,
             "#0d0887"
            ],
            [
             0.1111111111111111,
             "#46039f"
            ],
            [
             0.2222222222222222,
             "#7201a8"
            ],
            [
             0.3333333333333333,
             "#9c179e"
            ],
            [
             0.4444444444444444,
             "#bd3786"
            ],
            [
             0.5555555555555556,
             "#d8576b"
            ],
            [
             0.6666666666666666,
             "#ed7953"
            ],
            [
             0.7777777777777778,
             "#fb9f3a"
            ],
            [
             0.8888888888888888,
             "#fdca26"
            ],
            [
             1,
             "#f0f921"
            ]
           ],
           "sequentialminus": [
            [
             0,
             "#0d0887"
            ],
            [
             0.1111111111111111,
             "#46039f"
            ],
            [
             0.2222222222222222,
             "#7201a8"
            ],
            [
             0.3333333333333333,
             "#9c179e"
            ],
            [
             0.4444444444444444,
             "#bd3786"
            ],
            [
             0.5555555555555556,
             "#d8576b"
            ],
            [
             0.6666666666666666,
             "#ed7953"
            ],
            [
             0.7777777777777778,
             "#fb9f3a"
            ],
            [
             0.8888888888888888,
             "#fdca26"
            ],
            [
             1,
             "#f0f921"
            ]
           ]
          },
          "colorway": [
           "#636efa",
           "#EF553B",
           "#00cc96",
           "#ab63fa",
           "#FFA15A",
           "#19d3f3",
           "#FF6692",
           "#B6E880",
           "#FF97FF",
           "#FECB52"
          ],
          "font": {
           "color": "#2a3f5f"
          },
          "geo": {
           "bgcolor": "white",
           "lakecolor": "white",
           "landcolor": "#E5ECF6",
           "showlakes": true,
           "showland": true,
           "subunitcolor": "white"
          },
          "hoverlabel": {
           "align": "left"
          },
          "hovermode": "closest",
          "mapbox": {
           "style": "light"
          },
          "paper_bgcolor": "white",
          "plot_bgcolor": "#E5ECF6",
          "polar": {
           "angularaxis": {
            "gridcolor": "white",
            "linecolor": "white",
            "ticks": ""
           },
           "bgcolor": "#E5ECF6",
           "radialaxis": {
            "gridcolor": "white",
            "linecolor": "white",
            "ticks": ""
           }
          },
          "scene": {
           "xaxis": {
            "backgroundcolor": "#E5ECF6",
            "gridcolor": "white",
            "gridwidth": 2,
            "linecolor": "white",
            "showbackground": true,
            "ticks": "",
            "zerolinecolor": "white"
           },
           "yaxis": {
            "backgroundcolor": "#E5ECF6",
            "gridcolor": "white",
            "gridwidth": 2,
            "linecolor": "white",
            "showbackground": true,
            "ticks": "",
            "zerolinecolor": "white"
           },
           "zaxis": {
            "backgroundcolor": "#E5ECF6",
            "gridcolor": "white",
            "gridwidth": 2,
            "linecolor": "white",
            "showbackground": true,
            "ticks": "",
            "zerolinecolor": "white"
           }
          },
          "shapedefaults": {
           "line": {
            "color": "#2a3f5f"
           }
          },
          "ternary": {
           "aaxis": {
            "gridcolor": "white",
            "linecolor": "white",
            "ticks": ""
           },
           "baxis": {
            "gridcolor": "white",
            "linecolor": "white",
            "ticks": ""
           },
           "bgcolor": "#E5ECF6",
           "caxis": {
            "gridcolor": "white",
            "linecolor": "white",
            "ticks": ""
           }
          },
          "title": {
           "x": 0.05
          },
          "xaxis": {
           "automargin": true,
           "gridcolor": "white",
           "linecolor": "white",
           "ticks": "",
           "title": {
            "standoff": 15
           },
           "zerolinecolor": "white",
           "zerolinewidth": 2
          },
          "yaxis": {
           "automargin": true,
           "gridcolor": "white",
           "linecolor": "white",
           "ticks": "",
           "title": {
            "standoff": 15
           },
           "zerolinecolor": "white",
           "zerolinewidth": 2
          }
         }
        },
        "title": {
         "text": "Treemap of Top 10 Cast Members and Their Titles"
        }
       }
      }
     },
     "metadata": {},
     "output_type": "display_data"
    }
   ],
   "source": [
    "import plotly.express as px\n",
    "\n",
    "df_filtered = df[df['cast'].isin(df['cast'].value_counts().head(10).index)]  # creating a Tree map of top 10 cast members and their titles\n",
    "fig = px.treemap(df_filtered, path=['cast', 'title'], title='Treemap of Top 10 Cast Members and Their Titles')\n",
    "fig.show()\n"
   ]
  },
  {
   "cell_type": "markdown",
   "id": "97d05011",
   "metadata": {
    "id": "97d05011"
   },
   "source": [
    "## Observations:\n",
    "- ### David Attenborough is the most featured actor on Netflix with 14 TV Shows and 5 Movies. It seems interesting that the TV shows and movies in which he got featured are based on the planet Earth and nature (this observation can be seen from the above tree map).\n",
    "\n",
    "- ### One of the interesting observation is that Vatsal Dubey, Julie Tejwani, Rupa Bhimani, Jigna Bhardwaj, Rajesh Kava, Mousam and Swapnil which is the most featured cast have gained a huge popularity on Netflix because of various Chhota Bheem movies which they have created together and which are loved by the kids."
   ]
  },
  {
   "cell_type": "code",
   "execution_count": 22,
   "id": "94477ab2",
   "metadata": {
    "colab": {
     "base_uri": "https://localhost:8080/",
     "height": 547
    },
    "executionInfo": {
     "elapsed": 656,
     "status": "ok",
     "timestamp": 1746411480802,
     "user": {
      "displayName": "Tajwinder Singh",
      "userId": "00752918548403413662"
     },
     "user_tz": -330
    },
    "id": "94477ab2",
    "outputId": "b4ee5716-9878-4dc7-d1d2-23270412391b"
   },
   "outputs": [
    {
     "data": {
      "image/png": "[encoded data removed]",
      "text/plain": [
       "<Figure size 640x480 with 1 Axes>"
      ]
     },
     "metadata": {},
     "output_type": "display_data"
    }
   ],
   "source": [
    "top_countries_count = df['country'].value_counts().sort_values(ascending=False).head(10) # capturing top 10 countries count and creating the countplot of the same\n",
    "top_countries_count_df = df[df['country'].isin(top_countries_count.index)]\n",
    "\n",
    "sns.countplot(x = top_countries_count_df['country'], hue = top_countries_count_df['country'], legend = False, palette = 'turbo')\n",
    "plt.xticks(rotation = 90)\n",
    "plt.title(\"Countplot of Top 10 Country Based on Count\")\n",
    "plt.show()"
   ]
  },
  {
   "cell_type": "markdown",
   "id": "f174196d",
   "metadata": {
    "id": "f174196d"
   },
   "source": [
    "## Observations:\n",
    "\n",
    "- ### United States seems to be the most favorable destination for directors for creating movies and tv show content, also, this may suggest that most of the directors are native to the US.\n",
    "\n",
    "- ### India ranks 2nd among one of the top content created region."
   ]
  },
  {
   "cell_type": "code",
   "execution_count": 23,
   "id": "8d741249",
   "metadata": {
    "colab": {
     "base_uri": "https://localhost:8080/",
     "height": 506
    },
    "executionInfo": {
     "elapsed": 607,
     "status": "ok",
     "timestamp": 1746411481412,
     "user": {
      "displayName": "Tajwinder Singh",
      "userId": "00752918548403413662"
     },
     "user_tz": -330
    },
    "id": "8d741249",
    "outputId": "79065caf-a290-44d7-ee40-5ecd806f5a37"
   },
   "outputs": [
    {
     "data": {
      "image/png": "[encoded data removed]",
      "text/plain": [
       "<Figure size 640x480 with 1 Axes>"
      ]
     },
     "metadata": {},
     "output_type": "display_data"
    }
   ],
   "source": [
    "top_duration_count = df['duration'].value_counts().sort_values(ascending=False).head(10) # capturing the most frequent durations and creating the countplot of the same\n",
    "top_duration_count_df = df[df['duration'].isin(top_duration_count.index)]\n",
    "\n",
    "sns.countplot(x = top_duration_count_df['duration'], hue = top_duration_count_df['duration'], legend = False, palette = 'Dark2')\n",
    "plt.xticks(rotation = 90)\n",
    "plt.title(\"Countplot of Most Frequent Durations\")\n",
    "plt.show()"
   ]
  },
  {
   "cell_type": "markdown",
   "id": "nERz7Yguo9Cb",
   "metadata": {
    "id": "nERz7Yguo9Cb"
   },
   "source": [
    "## Observation:\n",
    "- ### Since TV Shows that have 1 season of duration are highly available on Netflix, this indicates that most of the TV show content on Netflix was recently added. Note that the dataset is based on 2021."
   ]
  },
  {
   "cell_type": "code",
   "execution_count": 24,
   "id": "11f33aa8",
   "metadata": {},
   "outputs": [
    {
     "name": "stdout",
     "output_type": "stream",
     "text": [
      "rating\n",
      "TV-MA       3207\n",
      "TV-14       2160\n",
      "TV-PG        863\n",
      "R            799\n",
      "PG-13        490\n",
      "TV-Y7        334\n",
      "TV-Y         307\n",
      "PG           287\n",
      "TV-G         220\n",
      "NR            80\n",
      "G             41\n",
      "TV-Y7-FV       6\n",
      "NC-17          3\n",
      "UR             3\n",
      "74 min         1\n",
      "84 min         1\n",
      "66 min         1\n",
      "Name: count, dtype: int64\n"
     ]
    },
    {
     "data": {
      "text/plain": [
       "rating\n",
       "TV-MA       3207\n",
       "TV-14       2160\n",
       "TV-PG        863\n",
       "R            799\n",
       "PG-13        490\n",
       "TV-Y7        334\n",
       "TV-Y         307\n",
       "PG           287\n",
       "TV-G         220\n",
       "NR            80\n",
       "G             41\n",
       "TV-Y7-FV       6\n",
       "NC-17          3\n",
       "UR             3\n",
       "Name: count, dtype: int64"
      ]
     },
     "execution_count": 24,
     "metadata": {},
     "output_type": "execute_result"
    }
   ],
   "source": [
    "print(df['rating'].value_counts()) # checking the unique values in 'rating' feature\n",
    "\n",
    "df = df[(df['rating'] != '74 min') & (df['rating'] != '84 min') & (df['rating']!= '66 min')] # filtering the 'rating' feature by removing the errors\n",
    "df['rating'].value_counts().sort_values(ascending = False)"
   ]
  },
  {
   "cell_type": "code",
   "execution_count": 25,
   "id": "70a1f161",
   "metadata": {
    "executionInfo": {
     "elapsed": 65,
     "status": "ok",
     "timestamp": 1746411481480,
     "user": {
      "displayName": "Tajwinder Singh",
      "userId": "00752918548403413662"
     },
     "user_tz": -330
    },
    "id": "70a1f161"
   },
   "outputs": [],
   "source": [
    "df_genre = df.assign(genre = df['listed_in'].str.split(',')).explode('genre') # splitting the genre by commas and capturing the unique genre\n",
    "df_genre['genre'] = df_genre['genre'].str.strip() # removing whitespaces from every genre"
   ]
  },
  {
   "cell_type": "code",
   "execution_count": 26,
   "id": "be459679",
   "metadata": {
    "colab": {
     "base_uri": "https://localhost:8080/",
     "height": 1000
    },
    "executionInfo": {
     "elapsed": 314,
     "status": "ok",
     "timestamp": 1746411481800,
     "user": {
      "displayName": "Tajwinder Singh",
      "userId": "00752918548403413662"
     },
     "user_tz": -330
    },
    "id": "be459679",
    "outputId": "a9587532-2304-4a1e-8a87-b7203db909b1"
   },
   "outputs": [
    {
     "data": {
      "text/html": [
       "<div>\n",
       "<style scoped>\n",
       "    .dataframe tbody tr th:only-of-type {\n",
       "        vertical-align: middle;\n",
       "    }\n",
       "\n",
       "    .dataframe tbody tr th {\n",
       "        vertical-align: top;\n",
       "    }\n",
       "\n",
       "    .dataframe thead th {\n",
       "        text-align: right;\n",
       "    }\n",
       "</style>\n",
       "<table border=\"1\" class=\"dataframe\">\n",
       "  <thead>\n",
       "    <tr style=\"text-align: right;\">\n",
       "      <th></th>\n",
       "      <th>show_id</th>\n",
       "      <th>type</th>\n",
       "      <th>title</th>\n",
       "      <th>director</th>\n",
       "      <th>cast</th>\n",
       "      <th>country</th>\n",
       "      <th>date_added</th>\n",
       "      <th>release_year</th>\n",
       "      <th>rating</th>\n",
       "      <th>duration</th>\n",
       "      <th>listed_in</th>\n",
       "      <th>description</th>\n",
       "      <th>date_added_year</th>\n",
       "      <th>genre</th>\n",
       "    </tr>\n",
       "  </thead>\n",
       "  <tbody>\n",
       "    <tr>\n",
       "      <th>0</th>\n",
       "      <td>s1</td>\n",
       "      <td>Movie</td>\n",
       "      <td>Dick Johnson Is Dead</td>\n",
       "      <td>Kirsten Johnson</td>\n",
       "      <td>NaN</td>\n",
       "      <td>United States</td>\n",
       "      <td>2021-09-25</td>\n",
       "      <td>2020</td>\n",
       "      <td>PG-13</td>\n",
       "      <td>90 min</td>\n",
       "      <td>Documentaries</td>\n",
       "      <td>As her father nears the end of his life, filmm...</td>\n",
       "      <td>2021.0</td>\n",
       "      <td>Documentaries</td>\n",
       "    </tr>\n",
       "    <tr>\n",
       "      <th>1</th>\n",
       "      <td>s2</td>\n",
       "      <td>TV Show</td>\n",
       "      <td>Blood &amp; Water</td>\n",
       "      <td>NaN</td>\n",
       "      <td>Ama Qamata, Khosi Ngema, Gail Mabalane, Thaban...</td>\n",
       "      <td>South Africa</td>\n",
       "      <td>2021-09-24</td>\n",
       "      <td>2021</td>\n",
       "      <td>TV-MA</td>\n",
       "      <td>2 Seasons</td>\n",
       "      <td>International TV Shows, TV Dramas, TV Mysteries</td>\n",
       "      <td>After crossing paths at a party, a Cape Town t...</td>\n",
       "      <td>2021.0</td>\n",
       "      <td>International TV Shows</td>\n",
       "    </tr>\n",
       "    <tr>\n",
       "      <th>1</th>\n",
       "      <td>s2</td>\n",
       "      <td>TV Show</td>\n",
       "      <td>Blood &amp; Water</td>\n",
       "      <td>NaN</td>\n",
       "      <td>Ama Qamata, Khosi Ngema, Gail Mabalane, Thaban...</td>\n",
       "      <td>South Africa</td>\n",
       "      <td>2021-09-24</td>\n",
       "      <td>2021</td>\n",
       "      <td>TV-MA</td>\n",
       "      <td>2 Seasons</td>\n",
       "      <td>International TV Shows, TV Dramas, TV Mysteries</td>\n",
       "      <td>After crossing paths at a party, a Cape Town t...</td>\n",
       "      <td>2021.0</td>\n",
       "      <td>TV Dramas</td>\n",
       "    </tr>\n",
       "    <tr>\n",
       "      <th>1</th>\n",
       "      <td>s2</td>\n",
       "      <td>TV Show</td>\n",
       "      <td>Blood &amp; Water</td>\n",
       "      <td>NaN</td>\n",
       "      <td>Ama Qamata, Khosi Ngema, Gail Mabalane, Thaban...</td>\n",
       "      <td>South Africa</td>\n",
       "      <td>2021-09-24</td>\n",
       "      <td>2021</td>\n",
       "      <td>TV-MA</td>\n",
       "      <td>2 Seasons</td>\n",
       "      <td>International TV Shows, TV Dramas, TV Mysteries</td>\n",
       "      <td>After crossing paths at a party, a Cape Town t...</td>\n",
       "      <td>2021.0</td>\n",
       "      <td>TV Mysteries</td>\n",
       "    </tr>\n",
       "    <tr>\n",
       "      <th>2</th>\n",
       "      <td>s3</td>\n",
       "      <td>TV Show</td>\n",
       "      <td>Ganglands</td>\n",
       "      <td>Julien Leclercq</td>\n",
       "      <td>Sami Bouajila, Tracy Gotoas, Samuel Jouy, Nabi...</td>\n",
       "      <td>NaN</td>\n",
       "      <td>2021-09-24</td>\n",
       "      <td>2021</td>\n",
       "      <td>TV-MA</td>\n",
       "      <td>1 Season</td>\n",
       "      <td>Crime TV Shows, International TV Shows, TV Act...</td>\n",
       "      <td>To protect his family from a powerful drug lor...</td>\n",
       "      <td>2021.0</td>\n",
       "      <td>Crime TV Shows</td>\n",
       "    </tr>\n",
       "    <tr>\n",
       "      <th>...</th>\n",
       "      <td>...</td>\n",
       "      <td>...</td>\n",
       "      <td>...</td>\n",
       "      <td>...</td>\n",
       "      <td>...</td>\n",
       "      <td>...</td>\n",
       "      <td>...</td>\n",
       "      <td>...</td>\n",
       "      <td>...</td>\n",
       "      <td>...</td>\n",
       "      <td>...</td>\n",
       "      <td>...</td>\n",
       "      <td>...</td>\n",
       "      <td>...</td>\n",
       "    </tr>\n",
       "    <tr>\n",
       "      <th>8805</th>\n",
       "      <td>s8806</td>\n",
       "      <td>Movie</td>\n",
       "      <td>Zoom</td>\n",
       "      <td>Peter Hewitt</td>\n",
       "      <td>Tim Allen, Courteney Cox, Chevy Chase, Kate Ma...</td>\n",
       "      <td>United States</td>\n",
       "      <td>2020-01-11</td>\n",
       "      <td>2006</td>\n",
       "      <td>PG</td>\n",
       "      <td>88 min</td>\n",
       "      <td>Children &amp; Family Movies, Comedies</td>\n",
       "      <td>Dragged from civilian life, a former superhero...</td>\n",
       "      <td>2020.0</td>\n",
       "      <td>Children &amp; Family Movies</td>\n",
       "    </tr>\n",
       "    <tr>\n",
       "      <th>8805</th>\n",
       "      <td>s8806</td>\n",
       "      <td>Movie</td>\n",
       "      <td>Zoom</td>\n",
       "      <td>Peter Hewitt</td>\n",
       "      <td>Tim Allen, Courteney Cox, Chevy Chase, Kate Ma...</td>\n",
       "      <td>United States</td>\n",
       "      <td>2020-01-11</td>\n",
       "      <td>2006</td>\n",
       "      <td>PG</td>\n",
       "      <td>88 min</td>\n",
       "      <td>Children &amp; Family Movies, Comedies</td>\n",
       "      <td>Dragged from civilian life, a former superhero...</td>\n",
       "      <td>2020.0</td>\n",
       "      <td>Comedies</td>\n",
       "    </tr>\n",
       "    <tr>\n",
       "      <th>8806</th>\n",
       "      <td>s8807</td>\n",
       "      <td>Movie</td>\n",
       "      <td>Zubaan</td>\n",
       "      <td>Mozez Singh</td>\n",
       "      <td>Vicky Kaushal, Sarah-Jane Dias, Raaghav Chanan...</td>\n",
       "      <td>India</td>\n",
       "      <td>2019-03-02</td>\n",
       "      <td>2015</td>\n",
       "      <td>TV-14</td>\n",
       "      <td>111 min</td>\n",
       "      <td>Dramas, International Movies, Music &amp; Musicals</td>\n",
       "      <td>A scrappy but poor boy worms his way into a ty...</td>\n",
       "      <td>2019.0</td>\n",
       "      <td>Dramas</td>\n",
       "    </tr>\n",
       "    <tr>\n",
       "      <th>8806</th>\n",
       "      <td>s8807</td>\n",
       "      <td>Movie</td>\n",
       "      <td>Zubaan</td>\n",
       "      <td>Mozez Singh</td>\n",
       "      <td>Vicky Kaushal, Sarah-Jane Dias, Raaghav Chanan...</td>\n",
       "      <td>India</td>\n",
       "      <td>2019-03-02</td>\n",
       "      <td>2015</td>\n",
       "      <td>TV-14</td>\n",
       "      <td>111 min</td>\n",
       "      <td>Dramas, International Movies, Music &amp; Musicals</td>\n",
       "      <td>A scrappy but poor boy worms his way into a ty...</td>\n",
       "      <td>2019.0</td>\n",
       "      <td>International Movies</td>\n",
       "    </tr>\n",
       "    <tr>\n",
       "      <th>8806</th>\n",
       "      <td>s8807</td>\n",
       "      <td>Movie</td>\n",
       "      <td>Zubaan</td>\n",
       "      <td>Mozez Singh</td>\n",
       "      <td>Vicky Kaushal, Sarah-Jane Dias, Raaghav Chanan...</td>\n",
       "      <td>India</td>\n",
       "      <td>2019-03-02</td>\n",
       "      <td>2015</td>\n",
       "      <td>TV-14</td>\n",
       "      <td>111 min</td>\n",
       "      <td>Dramas, International Movies, Music &amp; Musicals</td>\n",
       "      <td>A scrappy but poor boy worms his way into a ty...</td>\n",
       "      <td>2019.0</td>\n",
       "      <td>Music &amp; Musicals</td>\n",
       "    </tr>\n",
       "  </tbody>\n",
       "</table>\n",
       "<p>19320 rows × 14 columns</p>\n",
       "</div>"
      ],
      "text/plain": [
       "     show_id     type                 title         director  \\\n",
       "0         s1    Movie  Dick Johnson Is Dead  Kirsten Johnson   \n",
       "1         s2  TV Show         Blood & Water              NaN   \n",
       "1         s2  TV Show         Blood & Water              NaN   \n",
       "1         s2  TV Show         Blood & Water              NaN   \n",
       "2         s3  TV Show             Ganglands  Julien Leclercq   \n",
       "...      ...      ...                   ...              ...   \n",
       "8805   s8806    Movie                  Zoom     Peter Hewitt   \n",
       "8805   s8806    Movie                  Zoom     Peter Hewitt   \n",
       "8806   s8807    Movie                Zubaan      Mozez Singh   \n",
       "8806   s8807    Movie                Zubaan      Mozez Singh   \n",
       "8806   s8807    Movie                Zubaan      Mozez Singh   \n",
       "\n",
       "                                                   cast        country  \\\n",
       "0                                                   NaN  United States   \n",
       "1     Ama Qamata, Khosi Ngema, Gail Mabalane, Thaban...   South Africa   \n",
       "1     Ama Qamata, Khosi Ngema, Gail Mabalane, Thaban...   South Africa   \n",
       "1     Ama Qamata, Khosi Ngema, Gail Mabalane, Thaban...   South Africa   \n",
       "2     Sami Bouajila, Tracy Gotoas, Samuel Jouy, Nabi...            NaN   \n",
       "...                                                 ...            ...   \n",
       "8805  Tim Allen, Courteney Cox, Chevy Chase, Kate Ma...  United States   \n",
       "8805  Tim Allen, Courteney Cox, Chevy Chase, Kate Ma...  United States   \n",
       "8806  Vicky Kaushal, Sarah-Jane Dias, Raaghav Chanan...          India   \n",
       "8806  Vicky Kaushal, Sarah-Jane Dias, Raaghav Chanan...          India   \n",
       "8806  Vicky Kaushal, Sarah-Jane Dias, Raaghav Chanan...          India   \n",
       "\n",
       "     date_added  release_year rating   duration  \\\n",
       "0    2021-09-25          2020  PG-13     90 min   \n",
       "1    2021-09-24          2021  TV-MA  2 Seasons   \n",
       "1    2021-09-24          2021  TV-MA  2 Seasons   \n",
       "1    2021-09-24          2021  TV-MA  2 Seasons   \n",
       "2    2021-09-24          2021  TV-MA   1 Season   \n",
       "...         ...           ...    ...        ...   \n",
       "8805 2020-01-11          2006     PG     88 min   \n",
       "8805 2020-01-11          2006     PG     88 min   \n",
       "8806 2019-03-02          2015  TV-14    111 min   \n",
       "8806 2019-03-02          2015  TV-14    111 min   \n",
       "8806 2019-03-02          2015  TV-14    111 min   \n",
       "\n",
       "                                              listed_in  \\\n",
       "0                                         Documentaries   \n",
       "1       International TV Shows, TV Dramas, TV Mysteries   \n",
       "1       International TV Shows, TV Dramas, TV Mysteries   \n",
       "1       International TV Shows, TV Dramas, TV Mysteries   \n",
       "2     Crime TV Shows, International TV Shows, TV Act...   \n",
       "...                                                 ...   \n",
       "8805                 Children & Family Movies, Comedies   \n",
       "8805                 Children & Family Movies, Comedies   \n",
       "8806     Dramas, International Movies, Music & Musicals   \n",
       "8806     Dramas, International Movies, Music & Musicals   \n",
       "8806     Dramas, International Movies, Music & Musicals   \n",
       "\n",
       "                                            description  date_added_year  \\\n",
       "0     As her father nears the end of his life, filmm...           2021.0   \n",
       "1     After crossing paths at a party, a Cape Town t...           2021.0   \n",
       "1     After crossing paths at a party, a Cape Town t...           2021.0   \n",
       "1     After crossing paths at a party, a Cape Town t...           2021.0   \n",
       "2     To protect his family from a powerful drug lor...           2021.0   \n",
       "...                                                 ...              ...   \n",
       "8805  Dragged from civilian life, a former superhero...           2020.0   \n",
       "8805  Dragged from civilian life, a former superhero...           2020.0   \n",
       "8806  A scrappy but poor boy worms his way into a ty...           2019.0   \n",
       "8806  A scrappy but poor boy worms his way into a ty...           2019.0   \n",
       "8806  A scrappy but poor boy worms his way into a ty...           2019.0   \n",
       "\n",
       "                         genre  \n",
       "0                Documentaries  \n",
       "1       International TV Shows  \n",
       "1                    TV Dramas  \n",
       "1                 TV Mysteries  \n",
       "2               Crime TV Shows  \n",
       "...                        ...  \n",
       "8805  Children & Family Movies  \n",
       "8805                  Comedies  \n",
       "8806                    Dramas  \n",
       "8806      International Movies  \n",
       "8806          Music & Musicals  \n",
       "\n",
       "[19320 rows x 14 columns]"
      ]
     },
     "execution_count": 26,
     "metadata": {},
     "output_type": "execute_result"
    }
   ],
   "source": [
    "df_genre # displaying the dataframe"
   ]
  },
  {
   "cell_type": "code",
   "execution_count": 27,
   "id": "8154ba0d",
   "metadata": {
    "colab": {
     "base_uri": "https://localhost:8080/",
     "height": 1000
    },
    "executionInfo": {
     "elapsed": 108,
     "status": "ok",
     "timestamp": 1746411481911,
     "user": {
      "displayName": "Tajwinder Singh",
      "userId": "00752918548403413662"
     },
     "user_tz": -330
    },
    "id": "8154ba0d",
    "outputId": "26bf4162-e69e-439a-f216-f5a996a768d9"
   },
   "outputs": [
    {
     "data": {
      "text/html": [
       "<div>\n",
       "<style scoped>\n",
       "    .dataframe tbody tr th:only-of-type {\n",
       "        vertical-align: middle;\n",
       "    }\n",
       "\n",
       "    .dataframe tbody tr th {\n",
       "        vertical-align: top;\n",
       "    }\n",
       "\n",
       "    .dataframe thead th {\n",
       "        text-align: right;\n",
       "    }\n",
       "</style>\n",
       "<table border=\"1\" class=\"dataframe\">\n",
       "  <thead>\n",
       "    <tr style=\"text-align: right;\">\n",
       "      <th>type</th>\n",
       "      <th>Movie</th>\n",
       "      <th>TV Show</th>\n",
       "    </tr>\n",
       "    <tr>\n",
       "      <th>genre</th>\n",
       "      <th></th>\n",
       "      <th></th>\n",
       "    </tr>\n",
       "  </thead>\n",
       "  <tbody>\n",
       "    <tr>\n",
       "      <th>Action &amp; Adventure</th>\n",
       "      <td>859</td>\n",
       "      <td>0</td>\n",
       "    </tr>\n",
       "    <tr>\n",
       "      <th>Anime Features</th>\n",
       "      <td>71</td>\n",
       "      <td>0</td>\n",
       "    </tr>\n",
       "    <tr>\n",
       "      <th>Anime Series</th>\n",
       "      <td>0</td>\n",
       "      <td>176</td>\n",
       "    </tr>\n",
       "    <tr>\n",
       "      <th>British TV Shows</th>\n",
       "      <td>0</td>\n",
       "      <td>253</td>\n",
       "    </tr>\n",
       "    <tr>\n",
       "      <th>Children &amp; Family Movies</th>\n",
       "      <td>641</td>\n",
       "      <td>0</td>\n",
       "    </tr>\n",
       "    <tr>\n",
       "      <th>Classic &amp; Cult TV</th>\n",
       "      <td>0</td>\n",
       "      <td>28</td>\n",
       "    </tr>\n",
       "    <tr>\n",
       "      <th>Classic Movies</th>\n",
       "      <td>116</td>\n",
       "      <td>0</td>\n",
       "    </tr>\n",
       "    <tr>\n",
       "      <th>Comedies</th>\n",
       "      <td>1674</td>\n",
       "      <td>0</td>\n",
       "    </tr>\n",
       "    <tr>\n",
       "      <th>Crime TV Shows</th>\n",
       "      <td>0</td>\n",
       "      <td>470</td>\n",
       "    </tr>\n",
       "    <tr>\n",
       "      <th>Cult Movies</th>\n",
       "      <td>71</td>\n",
       "      <td>0</td>\n",
       "    </tr>\n",
       "    <tr>\n",
       "      <th>Documentaries</th>\n",
       "      <td>869</td>\n",
       "      <td>0</td>\n",
       "    </tr>\n",
       "    <tr>\n",
       "      <th>Docuseries</th>\n",
       "      <td>0</td>\n",
       "      <td>395</td>\n",
       "    </tr>\n",
       "    <tr>\n",
       "      <th>Dramas</th>\n",
       "      <td>2427</td>\n",
       "      <td>0</td>\n",
       "    </tr>\n",
       "    <tr>\n",
       "      <th>Faith &amp; Spirituality</th>\n",
       "      <td>65</td>\n",
       "      <td>0</td>\n",
       "    </tr>\n",
       "    <tr>\n",
       "      <th>Horror Movies</th>\n",
       "      <td>357</td>\n",
       "      <td>0</td>\n",
       "    </tr>\n",
       "    <tr>\n",
       "      <th>Independent Movies</th>\n",
       "      <td>756</td>\n",
       "      <td>0</td>\n",
       "    </tr>\n",
       "    <tr>\n",
       "      <th>International Movies</th>\n",
       "      <td>2752</td>\n",
       "      <td>0</td>\n",
       "    </tr>\n",
       "    <tr>\n",
       "      <th>International TV Shows</th>\n",
       "      <td>0</td>\n",
       "      <td>1351</td>\n",
       "    </tr>\n",
       "    <tr>\n",
       "      <th>Kids' TV</th>\n",
       "      <td>0</td>\n",
       "      <td>451</td>\n",
       "    </tr>\n",
       "    <tr>\n",
       "      <th>Korean TV Shows</th>\n",
       "      <td>0</td>\n",
       "      <td>151</td>\n",
       "    </tr>\n",
       "    <tr>\n",
       "      <th>LGBTQ Movies</th>\n",
       "      <td>102</td>\n",
       "      <td>0</td>\n",
       "    </tr>\n",
       "    <tr>\n",
       "      <th>Movies</th>\n",
       "      <td>54</td>\n",
       "      <td>0</td>\n",
       "    </tr>\n",
       "    <tr>\n",
       "      <th>Music &amp; Musicals</th>\n",
       "      <td>375</td>\n",
       "      <td>0</td>\n",
       "    </tr>\n",
       "    <tr>\n",
       "      <th>Reality TV</th>\n",
       "      <td>0</td>\n",
       "      <td>255</td>\n",
       "    </tr>\n",
       "    <tr>\n",
       "      <th>Romantic Movies</th>\n",
       "      <td>616</td>\n",
       "      <td>0</td>\n",
       "    </tr>\n",
       "    <tr>\n",
       "      <th>Romantic TV Shows</th>\n",
       "      <td>0</td>\n",
       "      <td>370</td>\n",
       "    </tr>\n",
       "    <tr>\n",
       "      <th>Sci-Fi &amp; Fantasy</th>\n",
       "      <td>243</td>\n",
       "      <td>0</td>\n",
       "    </tr>\n",
       "    <tr>\n",
       "      <th>Science &amp; Nature TV</th>\n",
       "      <td>0</td>\n",
       "      <td>92</td>\n",
       "    </tr>\n",
       "    <tr>\n",
       "      <th>Spanish-Language TV Shows</th>\n",
       "      <td>0</td>\n",
       "      <td>174</td>\n",
       "    </tr>\n",
       "    <tr>\n",
       "      <th>Sports Movies</th>\n",
       "      <td>219</td>\n",
       "      <td>0</td>\n",
       "    </tr>\n",
       "    <tr>\n",
       "      <th>Stand-Up Comedy</th>\n",
       "      <td>343</td>\n",
       "      <td>0</td>\n",
       "    </tr>\n",
       "    <tr>\n",
       "      <th>Stand-Up Comedy &amp; Talk Shows</th>\n",
       "      <td>0</td>\n",
       "      <td>56</td>\n",
       "    </tr>\n",
       "    <tr>\n",
       "      <th>TV Action &amp; Adventure</th>\n",
       "      <td>0</td>\n",
       "      <td>168</td>\n",
       "    </tr>\n",
       "    <tr>\n",
       "      <th>TV Comedies</th>\n",
       "      <td>0</td>\n",
       "      <td>581</td>\n",
       "    </tr>\n",
       "    <tr>\n",
       "      <th>TV Dramas</th>\n",
       "      <td>0</td>\n",
       "      <td>763</td>\n",
       "    </tr>\n",
       "    <tr>\n",
       "      <th>TV Horror</th>\n",
       "      <td>0</td>\n",
       "      <td>75</td>\n",
       "    </tr>\n",
       "    <tr>\n",
       "      <th>TV Mysteries</th>\n",
       "      <td>0</td>\n",
       "      <td>98</td>\n",
       "    </tr>\n",
       "    <tr>\n",
       "      <th>TV Sci-Fi &amp; Fantasy</th>\n",
       "      <td>0</td>\n",
       "      <td>84</td>\n",
       "    </tr>\n",
       "    <tr>\n",
       "      <th>TV Shows</th>\n",
       "      <td>0</td>\n",
       "      <td>16</td>\n",
       "    </tr>\n",
       "    <tr>\n",
       "      <th>TV Thrillers</th>\n",
       "      <td>0</td>\n",
       "      <td>57</td>\n",
       "    </tr>\n",
       "    <tr>\n",
       "      <th>Teen TV Shows</th>\n",
       "      <td>0</td>\n",
       "      <td>69</td>\n",
       "    </tr>\n",
       "    <tr>\n",
       "      <th>Thrillers</th>\n",
       "      <td>577</td>\n",
       "      <td>0</td>\n",
       "    </tr>\n",
       "  </tbody>\n",
       "</table>\n",
       "</div>"
      ],
      "text/plain": [
       "type                          Movie  TV Show\n",
       "genre                                       \n",
       "Action & Adventure              859        0\n",
       "Anime Features                   71        0\n",
       "Anime Series                      0      176\n",
       "British TV Shows                  0      253\n",
       "Children & Family Movies        641        0\n",
       "Classic & Cult TV                 0       28\n",
       "Classic Movies                  116        0\n",
       "Comedies                       1674        0\n",
       "Crime TV Shows                    0      470\n",
       "Cult Movies                      71        0\n",
       "Documentaries                   869        0\n",
       "Docuseries                        0      395\n",
       "Dramas                         2427        0\n",
       "Faith & Spirituality             65        0\n",
       "Horror Movies                   357        0\n",
       "Independent Movies              756        0\n",
       "International Movies           2752        0\n",
       "International TV Shows            0     1351\n",
       "Kids' TV                          0      451\n",
       "Korean TV Shows                   0      151\n",
       "LGBTQ Movies                    102        0\n",
       "Movies                           54        0\n",
       "Music & Musicals                375        0\n",
       "Reality TV                        0      255\n",
       "Romantic Movies                 616        0\n",
       "Romantic TV Shows                 0      370\n",
       "Sci-Fi & Fantasy                243        0\n",
       "Science & Nature TV               0       92\n",
       "Spanish-Language TV Shows         0      174\n",
       "Sports Movies                   219        0\n",
       "Stand-Up Comedy                 343        0\n",
       "Stand-Up Comedy & Talk Shows      0       56\n",
       "TV Action & Adventure             0      168\n",
       "TV Comedies                       0      581\n",
       "TV Dramas                         0      763\n",
       "TV Horror                         0       75\n",
       "TV Mysteries                      0       98\n",
       "TV Sci-Fi & Fantasy               0       84\n",
       "TV Shows                          0       16\n",
       "TV Thrillers                      0       57\n",
       "Teen TV Shows                     0       69\n",
       "Thrillers                       577        0"
      ]
     },
     "execution_count": 27,
     "metadata": {},
     "output_type": "execute_result"
    }
   ],
   "source": [
    "genre_type = pd.crosstab(df_genre['genre'], df_genre['type']) # creating a crosstab of the 'genre' and 'type'\n",
    "genre_type"
   ]
  },
  {
   "cell_type": "code",
   "execution_count": null,
   "id": "94629556",
   "metadata": {
    "colab": {
     "base_uri": "https://localhost:8080/",
     "height": 463
    },
    "executionInfo": {
     "elapsed": 2253,
     "status": "ok",
     "timestamp": 1746411484158,
     "user": {
      "displayName": "Tajwinder Singh",
      "userId": "00752918548403413662"
     },
     "user_tz": -330
    },
    "id": "94629556",
    "outputId": "4ff00701-06eb-4854-f760-dc7017c9cd90"
   },
   "outputs": [
    {
     "data": {
      "image/png": "[encoded data removed]",
      "text/plain": [
       "<Figure size 1200x800 with 2 Axes>"
      ]
     },
     "metadata": {},
     "output_type": "display_data"
    }
   ],
   "source": [
    "# creating a heatmap of the crosstab\n",
    "plt.figure(figsize=(12,8))\n",
    "sns.heatmap(genre_type, annot=True, fmt='d', cmap='YlGnBu') # annot = True will show colors on the values and fmt = 'd' will show those numbers\n",
    "plt.title(\"Genre-wise content distribution\")\n",
    "plt.ylabel(\"Genre\")\n",
    "plt.xlabel(\"Content Type\")\n",
    "plt.tight_layout()\n",
    "plt.show()\n"
   ]
  },
  {
   "cell_type": "markdown",
   "id": "4adb4f3b",
   "metadata": {
    "id": "4adb4f3b"
   },
   "source": [
    "## Observations in accordance to the above heatmap:\n",
    "- ### Genres such as International Movies, Dramas, Comedies and International TV Shows are highly prevalent on Netflix.\n",
    "- ### Also, a variety of content is available across various genres, making it ideal for family entertainment and quality time."
   ]
  },
  {
   "cell_type": "code",
   "execution_count": 29,
   "id": "a119bcbf",
   "metadata": {
    "executionInfo": {
     "elapsed": 26,
     "status": "ok",
     "timestamp": 1746411484224,
     "user": {
      "displayName": "Tajwinder Singh",
      "userId": "00752918548403413662"
     },
     "user_tz": -330
    },
    "id": "a119bcbf"
   },
   "outputs": [],
   "source": [
    "rating_count= df['rating'].value_counts()\n",
    "top_ratings = rating_count[:9] # capturing top 9 ratings which are unique\n"
   ]
  },
  {
   "cell_type": "code",
   "execution_count": 30,
   "id": "b698a45a",
   "metadata": {
    "colab": {
     "base_uri": "https://localhost:8080/",
     "height": 429
    },
    "executionInfo": {
     "elapsed": 26,
     "status": "ok",
     "timestamp": 1746411484230,
     "user": {
      "displayName": "Tajwinder Singh",
      "userId": "00752918548403413662"
     },
     "user_tz": -330
    },
    "id": "b698a45a",
    "outputId": "c234ceda-6b7d-41c5-cddd-eed4ac573250"
   },
   "outputs": [
    {
     "data": {
      "text/plain": [
       "rating\n",
       "TV-MA     3207\n",
       "TV-14     2160\n",
       "TV-PG      863\n",
       "R          799\n",
       "PG-13      490\n",
       "TV-Y7      334\n",
       "TV-Y       307\n",
       "PG         287\n",
       "TV-G       220\n",
       "others     133\n",
       "Name: count, dtype: int64"
      ]
     },
     "execution_count": 30,
     "metadata": {},
     "output_type": "execute_result"
    }
   ],
   "source": [
    "other_count= rating_count[9:].sum() # creating a separate index named 'others' for the ratings that are not in the top_ratings list\n",
    "top_ratings['others'] = other_count \n",
    "top_ratings"
   ]
  },
  {
   "cell_type": "code",
   "execution_count": 31,
   "id": "862d59df",
   "metadata": {
    "colab": {
     "base_uri": "https://localhost:8080/",
     "height": 675
    },
    "executionInfo": {
     "elapsed": 540,
     "status": "ok",
     "timestamp": 1746411484758,
     "user": {
      "displayName": "Tajwinder Singh",
      "userId": "00752918548403413662"
     },
     "user_tz": -330
    },
    "id": "862d59df",
    "outputId": "86336d73-167f-4c07-cf98-8f88f469cdb7"
   },
   "outputs": [
    {
     "data": {
      "image/png": "[encoded data removed]",
      "text/plain": [
       "<Figure size 1200x800 with 1 Axes>"
      ]
     },
     "metadata": {},
     "output_type": "display_data"
    }
   ],
   "source": [
    "# creating a pie chart of the top 9 frequently listed ratings\n",
    "plt.figure(figsize=(12,8))\n",
    "plt.pie(top_ratings, labels = top_ratings.index, autopct='%1.1f%%', startangle=140)\n",
    "plt.title('Distribution of Netflix Content Ratings')\n",
    "plt.show()"
   ]
  },
  {
   "cell_type": "markdown",
   "id": "7cee51fc",
   "metadata": {
    "id": "7cee51fc"
   },
   "source": [
    "## The above visualization helps to conclude that:\n",
    "\n",
    "- ### It is evident that the content of 'TV-MA' rating is high which is for the mature audience.\n",
    "\n",
    "- ### 'TV - 14' is also highly available which reveals that Netflix is more focused towards uploading contents for teenage and adult audiences.\n",
    "\n",
    "- ### As shown in the figure the content for kids and general audience is very less(TV-G, PG, TV-Y, TV-Y7, PG-13, etc.). This insight can be advantageous for Netflix as it can be leveraged to add more content for the general audiences."
   ]
  }
 ],
 "metadata": {
  "colab": {
   "provenance": []
  },
  "kernelspec": {
   "display_name": "Python 3",
   "language": "python",
   "name": "python3"
  },
  "language_info": {
   "codemirror_mode": {
    "name": "ipython",
    "version": 3
   },
   "file_extension": ".py",
   "mimetype": "text/x-python",
   "name": "python",
   "nbconvert_exporter": "python",
   "pygments_lexer": "ipython3",
   "version": "3.13.2"
  }
 },
 "nbformat": 4,
 "nbformat_minor": 5
}
